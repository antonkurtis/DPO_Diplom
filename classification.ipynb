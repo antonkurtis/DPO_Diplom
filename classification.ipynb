{
  "nbformat": 4,
  "nbformat_minor": 0,
  "metadata": {
    "colab": {
      "name": "classification.ipynb",
      "provenance": [],
      "collapsed_sections": [],
      "machine_shape": "hm"
    },
    "kernelspec": {
      "display_name": "Python 3",
      "language": "python",
      "name": "python3"
    },
    "language_info": {
      "codemirror_mode": {
        "name": "ipython",
        "version": 3
      },
      "file_extension": ".py",
      "mimetype": "text/x-python",
      "name": "python",
      "nbconvert_exporter": "python",
      "pygments_lexer": "ipython3",
      "version": "3.7.4"
    },
    "accelerator": "GPU"
  },
  "cells": [
    {
      "cell_type": "markdown",
      "metadata": {
        "id": "bHS8qClIqSdl"
      },
      "source": [
        "## **MRI classification with 3D CNN**"
      ]
    },
    {
      "cell_type": "markdown",
      "metadata": {
        "id": "gYI4bcYpptdM"
      },
      "source": [
        "#### 1. Introduction\n",
        "In this notebook we will explore simple 3D CNN classificationl model on `pytorch` from the Frontiers in Neuroscience paper: https://www.frontiersin.org/articles/10.3389/fnins.2019.00185/full. In the current notebook we follow [the paper](https://arxiv.org/pdf/2006.15969.pdf) on `3T` `T1w` MRI images from https://www.humanconnectome.org/. \n",
        "\n",
        "**Our goal will be to build a network for MEN and WOMEN brain classification, to explore gender influence on brain structure and find gender-specific biomarkers.**\n",
        "\n",
        "\n",
        "*Proceeding with this Notebook you confirm your personal acess [to the data](https://www.humanconnectome.org/study/hcp-young-adult/document/1200-subjects-data-release). \n",
        " And your agreement on data [terms and conditions](https://www.humanconnectome.org/study/hcp-young-adult/data-use-terms).*\n"
      ]
    },
    {
      "cell_type": "markdown",
      "metadata": {
        "id": "YqAayt8wtZ-m"
      },
      "source": [
        "1. Importing needed libs\n"
      ]
    },
    {
      "cell_type": "code",
      "metadata": {
        "id": "TbVC-fIYcwoA"
      },
      "source": [
        "import os\n",
        "from collections import Counter\n",
        "import numpy as np\n",
        "import matplotlib.pyplot as plt\n",
        "import pandas as pd\n",
        "import torch\n",
        "import torch.nn as nn\n",
        "import torch.utils.data as torch_data\n",
        "import torch.nn.functional as F\n",
        "import sklearn\n",
        "from sklearn import metrics\n",
        "from torchsummary import summary\n",
        "from sklearn.model_selection import train_test_split, StratifiedKFold\n",
        "\n",
        "\n",
        "%matplotlib inline"
      ],
      "execution_count": 1,
      "outputs": []
    },
    {
      "cell_type": "markdown",
      "metadata": {
        "id": "Tb4Hu77AuRte"
      },
      "source": [
        "2. Mounting Google Drive to Collab Notebook. You should go with the link and enter your personal authorization code:"
      ]
    },
    {
      "cell_type": "code",
      "metadata": {
        "id": "ZXYXRCCIB2Ue",
        "colab": {
          "base_uri": "https://localhost:8080/"
        },
        "outputId": "738f7848-99e7-4cb2-ce2c-f622bec0b5e7"
      },
      "source": [
        "from google.colab import drive\n",
        "drive.mount('/content/drive')"
      ],
      "execution_count": null,
      "outputs": [
        {
          "output_type": "stream",
          "name": "stdout",
          "text": [
            "Drive already mounted at /content/drive; to attempt to forcibly remount, call drive.mount(\"/content/drive\", force_remount=True).\n"
          ]
        }
      ]
    },
    {
      "cell_type": "markdown",
      "metadata": {
        "id": "1IlGfuWsuot2"
      },
      "source": [
        "3. Get the data. Add a shortcut to your Google Drive for `labels.npy` and `tensors.npy`. \n",
        "\n",
        "Shared link: https://drive.google.com/drive/folders/1Cq35zfhqJHlmhQjNlsDIeQ71ZsT2aghv?usp=sharing"
      ]
    },
    {
      "cell_type": "code",
      "metadata": {
        "id": "WBxqm43mKUCl"
      },
      "source": [
        "data_dir = '/content/drive/MyDrive/data/seminars/anat/'"
      ],
      "execution_count": null,
      "outputs": []
    },
    {
      "cell_type": "markdown",
      "metadata": {
        "id": "5tJhdbkMKte1"
      },
      "source": [
        "Let's watch the data. We will use `nilearn` package for the visualisation:  \n",
        "https://nilearn.github.io/modules/generated/nilearn.plotting.plot_anat.html#nilearn.plotting.plot_anat "
      ]
    },
    {
      "cell_type": "code",
      "metadata": {
        "id": "CRiEcgFIK5gZ",
        "colab": {
          "base_uri": "https://localhost:8080/"
        },
        "outputId": "3b2ada83-d6b9-4943-e234-f5c96ce09d79"
      },
      "source": [
        "!pip  install --quiet --upgrade nilearn\n",
        "import nilearn\n",
        "from nilearn import plotting"
      ],
      "execution_count": null,
      "outputs": [
        {
          "output_type": "stream",
          "name": "stdout",
          "text": [
            "\u001b[K     |████████████████████████████████| 4.9 MB 3.9 MB/s \n",
            "\u001b[?25h"
          ]
        },
        {
          "output_type": "stream",
          "name": "stderr",
          "text": [
            "/usr/local/lib/python3.7/dist-packages/nilearn/datasets/__init__.py:89: FutureWarning: Fetchers from the nilearn.datasets module will be updated in version 0.9 to return python strings instead of bytes and Pandas dataframes instead of Numpy arrays.\n",
            "  \"Numpy arrays.\", FutureWarning)\n"
          ]
        }
      ]
    },
    {
      "cell_type": "code",
      "metadata": {
        "id": "jsQ_-1WsMd0C",
        "colab": {
          "base_uri": "https://localhost:8080/",
          "height": 235
        },
        "outputId": "9482bae7-5314-4d29-f9c7-61cd2cb3fc28"
      },
      "source": [
        "img = nilearn.image.load_img(data_dir +'100408.nii')\n",
        "plotting.plot_anat(img)"
      ],
      "execution_count": null,
      "outputs": [
        {
          "output_type": "execute_result",
          "data": {
            "text/plain": [
              "<nilearn.plotting.displays.OrthoSlicer at 0x7fcbfcf4ad90>"
            ]
          },
          "metadata": {},
          "execution_count": 5
        },
        {
          "output_type": "display_data",
          "data": {
            "image/png": "[encoded data removed]",
            "text/plain": [
              "<Figure size 475.2x187.2 with 4 Axes>"
            ]
          },
          "metadata": {}
        }
      ]
    },
    {
      "cell_type": "markdown",
      "metadata": {
        "id": "iR-yP8c-NanX"
      },
      "source": [
        "Questions:\n",
        "1. What is the size of image (file)?\n",
        "2. That is the intensity distribution of voxels?"
      ]
    },
    {
      "cell_type": "code",
      "metadata": {
        "id": "oHD0cZv9NmWg",
        "colab": {
          "base_uri": "https://localhost:8080/"
        },
        "outputId": "1169f3da-211e-46ee-c0d1-99893d761b6b"
      },
      "source": [
        "img_array = nilearn.image.get_data(img)\n",
        "img_array.shape"
      ],
      "execution_count": null,
      "outputs": [
        {
          "output_type": "execute_result",
          "data": {
            "text/plain": [
              "(260, 311, 260)"
            ]
          },
          "metadata": {},
          "execution_count": 6
        }
      ]
    },
    {
      "cell_type": "markdown",
      "metadata": {
        "id": "EMokM8qhKq_4"
      },
      "source": [
        "#### 2. Defining training and target samples"
      ]
    },
    {
      "cell_type": "code",
      "metadata": {
        "id": "Ng1IcCer9NSG",
        "colab": {
          "base_uri": "https://localhost:8080/"
        },
        "outputId": "90f4116d-c909-4a68-a66c-dce8b8128059"
      },
      "source": [
        "X, y = np.load(data_dir + 'tensors.npy'), \\\n",
        "np.load(data_dir + 'labels.npy')\n",
        "X = X[:, np.newaxis, :, :, :]\n",
        "print(X.shape, y.shape)"
      ],
      "execution_count": null,
      "outputs": [
        {
          "output_type": "stream",
          "name": "stdout",
          "text": [
            "(1113, 1, 58, 70, 58) (1113,)\n"
          ]
        }
      ]
    },
    {
      "cell_type": "code",
      "metadata": {
        "id": "G-in4TXqOuzY",
        "colab": {
          "base_uri": "https://localhost:8080/"
        },
        "outputId": "cfadcaf1-f102-49c7-ee2a-6a68bc977aa2"
      },
      "source": [
        "sample_data = X[1,0,:,:,:]\n",
        "X[1,0,:,:,:].shape"
      ],
      "execution_count": null,
      "outputs": [
        {
          "output_type": "execute_result",
          "data": {
            "text/plain": [
              "(58, 70, 58)"
            ]
          },
          "metadata": {},
          "execution_count": 6
        }
      ]
    },
    {
      "cell_type": "markdown",
      "metadata": {
        "id": "aVv2Rd0GY5YZ"
      },
      "source": [
        "**From the sourse article:**\n",
        "\n",
        "[The original data were too large](https://www.frontiersin.org/articles/10.3389/fnins.2019.00185/full) to train the model and it would cause RESOURCE EXAUSTED problem while training due to the insufficient of GPU memory. The GPU we used in the experiment is NVIDIAN TITAN_XP with 12G memory each. To solve the problem, we scaled the size of FA image to [58 × 70 × 58]. This procedure may lead to a better classification result, since a smaller size of the input image can provide a larger receptive field to the CNN model. In order to perform the image scaling, “dipy” (http://nipy.org/dipy/) was used to read the .nii data of FA. Then “ndimage” in the SciPy (http://www.scipy.org) was used to reduce the size of the data. "
      ]
    },
    {
      "cell_type": "code",
      "metadata": {
        "id": "be_2ekP6PG2t",
        "colab": {
          "base_uri": "https://localhost:8080/",
          "height": 235
        },
        "outputId": "470e5764-a05c-4d48-d1d8-f9be02d0fd32"
      },
      "source": [
        "sample_img = nilearn.image.new_img_like(img, sample_data)\n",
        "plotting.plot_anat(sample_img)"
      ],
      "execution_count": null,
      "outputs": [
        {
          "output_type": "execute_result",
          "data": {
            "text/plain": [
              "<nilearn.plotting.displays.OrthoSlicer at 0x7fcbf496fc50>"
            ]
          },
          "metadata": {},
          "execution_count": 9
        },
        {
          "output_type": "display_data",
          "data": {
            "image/png": "[encoded data removed]",
            "text/plain": [
              "<Figure size 475.2x187.2 with 4 Axes>"
            ]
          },
          "metadata": {}
        }
      ]
    },
    {
      "cell_type": "markdown",
      "metadata": {
        "id": "R9ObKK2YQW2s"
      },
      "source": [
        "#### 3. Defining Data Set"
      ]
    },
    {
      "cell_type": "code",
      "metadata": {
        "id": "hjalzY4ZylGC"
      },
      "source": [
        "class MriData(torch.utils.data.Dataset):\n",
        "    def __init__(self, X, y):\n",
        "        super(MriData, self).__init__()\n",
        "        self.X = torch.tensor(X, dtype=torch.float32)\n",
        "        self.y = torch.tensor(y).long()\n",
        "    \n",
        "    def __len__(self):\n",
        "        return self.X.shape[0]\n",
        "    \n",
        "    def __getitem__(self, idx):\n",
        "        return self.X[idx], self.y[idx]"
      ],
      "execution_count": null,
      "outputs": []
    },
    {
      "cell_type": "markdown",
      "metadata": {
        "id": "8lv4i-TSQvcX"
      },
      "source": [
        "#### 4. Defining the CNN model architecture\n",
        "\n",
        "[3D PCNN architecture](https://www.frontiersin.org/articles/10.3389/fnins.2019.00185/full)\n",
        "![model](https://www.frontiersin.org/files/Articles/442577/fnins-13-00185-HTML/image_m/fnins-13-00185-g001.jpg)"
      ]
    },
    {
      "cell_type": "markdown",
      "metadata": {
        "id": "cqFwgNpJHdDN"
      },
      "source": [
        "At first check if we have GPU onborad:"
      ]
    },
    {
      "cell_type": "code",
      "metadata": {
        "id": "mvbAGRRAHS63",
        "colab": {
          "base_uri": "https://localhost:8080/"
        },
        "outputId": "cfab13e6-1fc6-473a-e570-1f31dba034fe"
      },
      "source": [
        " torch.cuda.is_available()"
      ],
      "execution_count": 2,
      "outputs": [
        {
          "output_type": "execute_result",
          "data": {
            "text/plain": [
              "True"
            ]
          },
          "metadata": {},
          "execution_count": 2
        }
      ]
    },
    {
      "cell_type": "code",
      "metadata": {
        "id": "jX-W0Nv_HaLG"
      },
      "source": [
        "if torch.cuda.is_available():\n",
        "  device = torch.device(\"cuda\")\n",
        "else:\n",
        "  device = torch.device(\"cpu\")"
      ],
      "execution_count": 3,
      "outputs": []
    },
    {
      "cell_type": "code",
      "metadata": {
        "id": "vvoEO3-oQxfV"
      },
      "source": [
        "#Dropout\n",
        "## Hidden layers 1, 2 and 3\n",
        "hidden = lambda c_in, c_out: nn.Sequential(\n",
        "    nn.Conv3d(c_in, c_out, (3,3,3)), # Convolutional layer\n",
        "    nn.BatchNorm3d(c_out), # Batch Normalization layer\n",
        "    nn.ReLU(), # Activational layer\n",
        "    nn.MaxPool3d(2), # Pooling layer\n",
        "    nn.Dropout3d(0,2)\n",
        ")\n",
        "\n",
        "class MriNet(nn.Module):\n",
        "    def __init__(self, c):\n",
        "        super(MriNet, self).__init__()\n",
        "        self.hidden1 = hidden(1, c)\n",
        "        self.hidden2 = hidden(c, 2*c)\n",
        "        self.hidden3 = hidden(2*c, 4*c)\n",
        "        self.linear = nn.Linear(128*5*7*5, 2)\n",
        "        self.flatten = nn.Flatten()\n",
        "\n",
        "    def forward(self, x):\n",
        "        x = self.hidden1(x)\n",
        "        x = self.hidden2(x)\n",
        "        x = self.hidden3(x)\n",
        "        x = self.flatten(x)\n",
        "        x = self.linear(x)\n",
        "        x = F.log_softmax(x, dim=1)\n",
        "        return x\n",
        "\n",
        "torch.manual_seed(1)\n",
        "np.random.seed(1)\n",
        "\n",
        "c = 32"
      ],
      "execution_count": 6,
      "outputs": []
    },
    {
      "cell_type": "code",
      "metadata": {
        "colab": {
          "base_uri": "https://localhost:8080/"
        },
        "id": "lSODWXCnGGOG",
        "outputId": "82bfa0d0-f56a-4e1f-efdc-06ee286d3645"
      },
      "source": [
        "c = 32\n",
        "model = MriNet(c).to(device)\n",
        "summary(model, (1, 58, 70, 58))"
      ],
      "execution_count": 5,
      "outputs": [
        {
          "output_type": "stream",
          "name": "stdout",
          "text": [
            "----------------------------------------------------------------\n",
            "        Layer (type)               Output Shape         Param #\n",
            "================================================================\n",
            "            Conv3d-1       [-1, 32, 56, 68, 56]             896\n",
            "       BatchNorm3d-2       [-1, 32, 56, 68, 56]              64\n",
            "              ReLU-3       [-1, 32, 56, 68, 56]               0\n",
            "         MaxPool3d-4       [-1, 32, 28, 34, 28]               0\n",
            "         Dropout3d-5       [-1, 32, 28, 34, 28]               0\n",
            "            Conv3d-6       [-1, 64, 26, 32, 26]          55,360\n",
            "       BatchNorm3d-7       [-1, 64, 26, 32, 26]             128\n",
            "              ReLU-8       [-1, 64, 26, 32, 26]               0\n",
            "         MaxPool3d-9       [-1, 64, 13, 16, 13]               0\n",
            "        Dropout3d-10       [-1, 64, 13, 16, 13]               0\n",
            "           Conv3d-11      [-1, 128, 11, 14, 11]         221,312\n",
            "      BatchNorm3d-12      [-1, 128, 11, 14, 11]             256\n",
            "             ReLU-13      [-1, 128, 11, 14, 11]               0\n",
            "        MaxPool3d-14         [-1, 128, 5, 7, 5]               0\n",
            "        Dropout3d-15         [-1, 128, 5, 7, 5]               0\n",
            "          Flatten-16                [-1, 22400]               0\n",
            "           Linear-17                    [-1, 2]          44,802\n",
            "================================================================\n",
            "Total params: 322,818\n",
            "Trainable params: 322,818\n",
            "Non-trainable params: 0\n",
            "----------------------------------------------------------------\n",
            "Input size (MB): 0.90\n",
            "Forward/backward pass size (MB): 209.01\n",
            "Params size (MB): 1.23\n",
            "Estimated Total Size (MB): 211.14\n",
            "----------------------------------------------------------------\n"
          ]
        }
      ]
    },
    {
      "cell_type": "markdown",
      "metadata": {
        "id": "wUtTLI4ZwhDi"
      },
      "source": [
        "#### 5. Training the model"
      ]
    },
    {
      "cell_type": "code",
      "metadata": {
        "id": "yUZGw-ETwKA5"
      },
      "source": [
        "X_train, X_test, y_train, y_test = train_test_split(X, y, test_size=0.20, stratify=y, random_state=42) \n",
        "\n",
        "train_dataset = MriData(X_train, y_train)\n",
        "test_dataset = MriData(X_test, y_test)"
      ],
      "execution_count": null,
      "outputs": []
    },
    {
      "cell_type": "code",
      "metadata": {
        "id": "BttsN8kG3YyG"
      },
      "source": [
        "train_loader = torch.utils.data.DataLoader(train_dataset, batch_size=45, shuffle=True)  #45 - recommended value for batchsize\n",
        "val_loader = torch.utils.data.DataLoader(test_dataset, batch_size=28, shuffle=False) "
      ],
      "execution_count": null,
      "outputs": []
    },
    {
      "cell_type": "code",
      "metadata": {
        "id": "Ry5Deo3uYufS"
      },
      "source": [
        "CHECKPOINTS_DIR =  data_dir +'/checkpoints'"
      ],
      "execution_count": null,
      "outputs": []
    },
    {
      "cell_type": "code",
      "metadata": {
        "id": "InIC1EMOZRHs"
      },
      "source": [
        "from tqdm import tqdm\n",
        "\n",
        "def get_accuracy(net, data_loader):\n",
        "    net.eval()\n",
        "    correct = 0\n",
        "    for data, target in data_loader:\n",
        "        data = data.to(device)\n",
        "        target = target.to(device)\n",
        "\n",
        "        out = net(data)\n",
        "        pred = out.data.max(1)[1] # get the index of the max log-probability\n",
        "        correct += pred.eq(target.data).cpu().sum()\n",
        "        del data, target\n",
        "    accuracy = 100. * correct / len(data_loader.dataset)\n",
        "    return accuracy.item()\n",
        "\n",
        "def get_loss(net, data_loader):\n",
        "    net.eval()\n",
        "    loss = 0 \n",
        "    for data, target in data_loader:\n",
        "        data = data.to(device)\n",
        "        target = target.to(device)\n",
        "\n",
        "        out = net(data)\n",
        "        loss += criterion(out, target).item()*len(data)\n",
        "\n",
        "        del data, target, out \n",
        "\n",
        "    return loss / len(data_loader.dataset)\n",
        "\n",
        "\n",
        "def train(epochs, net, criterion, optimizer, train_loader, val_loader, scheduler=None, verbose=True, save=False):\n",
        "    best_val_loss = 100_000\n",
        "    best_model = None\n",
        "    train_loss_list = []\n",
        "    val_loss_list = []\n",
        "    train_acc_list = []\n",
        "    val_acc_list = []\n",
        "\n",
        "    train_loss_list.append(get_loss(net, train_loader))\n",
        "    val_loss_list.append(get_loss(net, val_loader))\n",
        "    train_acc_list.append(get_accuracy(net, train_loader))\n",
        "    val_acc_list.append(get_accuracy(net, val_loader))\n",
        "    if verbose:\n",
        "        print('Epoch {:02d}/{} || Loss:  Train {:.4f} | Validation {:.4f}'.format(0, epochs, train_loss_list[-1], val_loss_list[-1]))\n",
        "\n",
        "    net.to(device)\n",
        "    for epoch in tqdm(range(1, epochs+1)):\n",
        "        net.train()\n",
        "        for X, y in train_loader:\n",
        "            # Perform one step of minibatch stochastic gradient descent\n",
        "            X, y = X.to(device), y.to(device)\n",
        "            optimizer.zero_grad()\n",
        "            out = net(X)\n",
        "            \n",
        "            loss = criterion(out, y)\n",
        "            loss.backward()\n",
        "            optimizer.step()\n",
        "            del X, y, out, loss #freeing gpu space\n",
        "            \n",
        "        \n",
        "        # define NN evaluation, i.e. turn off dropouts, batchnorms, etc.\n",
        "        net.eval()\n",
        "        for X, y in val_loader:\n",
        "            # Compute the validation loss\n",
        "            X, y = X.to(device), y.to(device)\n",
        "            out = net(X)\n",
        "            del X, y, out #freeing gpu space\n",
        "         \n",
        "        if scheduler is not None:\n",
        "            scheduler.step()\n",
        "        \n",
        "        \n",
        "        train_loss_list.append(get_loss(net, train_loader))\n",
        "        val_loss_list.append(get_loss(net, val_loader))\n",
        "        train_acc_list.append(get_accuracy(net, train_loader))\n",
        "        val_acc_list.append(get_accuracy(net, val_loader))\n",
        "\n",
        "        if save and val_loss_list[-1] < best_val_loss:\n",
        "            torch.save(net.state_dict(), CHECKPOINTS_DIR+'best_model')\n",
        "        freq = 1\n",
        "        if verbose and epoch%freq==0:\n",
        "            print('Epoch {:02d}/{} || Loss:  Train {:.4f} | Validation {:.4f}'.format(epoch, epochs, train_loss_list[-1], val_loss_list[-1]))\n",
        "        \n",
        "    return train_loss_list, val_loss_list, train_acc_list, val_acc_list    "
      ],
      "execution_count": null,
      "outputs": []
    },
    {
      "cell_type": "code",
      "metadata": {
        "id": "C8kzjDcOJ0br"
      },
      "source": [
        "#With roc_auc metric\n",
        "# timing\n",
        "from tqdm import tqdm\n",
        "\n",
        "def get_roc_auc(net, data_loader):\n",
        "    net.eval()\n",
        "    correct = 0\n",
        "    for data, target in data_loader:\n",
        "        data = data.to(device)\n",
        "        target = target.to(device)\n",
        "\n",
        "        out = net(data)\n",
        "        out_numpy = out.cpu().detach().numpy()\n",
        "        pred = np.exp(out_numpy[:, 1])\n",
        "        del data\n",
        "\n",
        "    try:\n",
        "      accuracy = metrics.roc_auc_score(target.cpu(), pred)\n",
        "    except ValueError:\n",
        "      accuracy = 0.0001\n",
        "\n",
        "    #del target\n",
        "    return accuracy\n",
        "\n",
        "def get_loss(net, data_loader):\n",
        "    net.eval()\n",
        "    loss = 0 \n",
        "    for data, target in data_loader:\n",
        "        data = data.to(device)\n",
        "        target = target.to(device)\n",
        "\n",
        "        out = net(data)\n",
        "        loss += criterion(out, target).item()*len(data)\n",
        "\n",
        "        del data, target, out \n",
        "\n",
        "    return loss / len(data_loader.dataset)\n",
        "\n",
        "\n",
        "def train_roc_auc(epochs, net, criterion, optimizer, train_loader, val_loader, scheduler=None, verbose=True, save=False):\n",
        "    best_val_loss = 100_000\n",
        "    best_model = None\n",
        "    train_loss_list = []\n",
        "    val_loss_list = []\n",
        "    train_acc_list = []\n",
        "    val_acc_list = []\n",
        "\n",
        "    train_loss_list.append(get_loss(net, train_loader))\n",
        "    val_loss_list.append(get_loss(net, val_loader))\n",
        "    train_acc_list.append(get_roc_auc(net, train_loader))\n",
        "    val_acc_list.append(get_roc_auc(net, val_loader))\n",
        "    if verbose:\n",
        "        print('Epoch {:02d}/{} || Loss:  Train {:.4f} | Validation {:.4f}'.format(0, epochs, train_loss_list[-1], val_loss_list[-1]))\n",
        "\n",
        "    net.to(device)\n",
        "    for epoch in tqdm(range(1, epochs+1)):\n",
        "        net.train()\n",
        "        for X, y in train_loader:\n",
        "            # Perform one step of minibatch stochastic gradient descent\n",
        "            X, y = X.to(device), y.to(device)\n",
        "            optimizer.zero_grad()\n",
        "            out = net(X)\n",
        "            loss = criterion(out, y)\n",
        "            loss.backward()\n",
        "            optimizer.step()\n",
        "            del X, y, out, loss #freeing gpu space\n",
        "            \n",
        "        \n",
        "        # define NN evaluation, i.e. turn off dropouts, batchnorms, etc.\n",
        "        net.eval()\n",
        "        for X, y in val_loader:\n",
        "            # Compute the validation loss\n",
        "            X, y = X.to(device), y.to(device)\n",
        "            out = net(X)\n",
        "            del X, y, out #freeing gpu space\n",
        "         \n",
        "        if scheduler is not None:\n",
        "            scheduler.step()\n",
        "        \n",
        "        \n",
        "        train_loss_list.append(get_loss(net, train_loader))\n",
        "        val_loss_list.append(get_loss(net, val_loader))\n",
        "        train_acc_list.append(get_roc_auc(net, train_loader))\n",
        "        val_acc_list.append(get_roc_auc(net, val_loader))\n",
        "\n",
        "        if save and val_loss_list[-1] < best_val_loss:\n",
        "            torch.save(net.state_dict(), CHECKPOINTS_DIR+'best_model')\n",
        "        freq = 1\n",
        "        if verbose and epoch%freq==0:\n",
        "            print('Epoch {:02d}/{} || Loss:  Train {:.4f} | Validation {:.4f}'.format(epoch, epochs, train_loss_list[-1], val_loss_list[-1]))\n",
        "        \n",
        "    return train_loss_list, val_loss_list, train_acc_list, val_acc_list    "
      ],
      "execution_count": null,
      "outputs": []
    },
    {
      "cell_type": "markdown",
      "metadata": {
        "id": "2UznBfFtRtQS"
      },
      "source": [
        "##### Training first **20 epochs**:\n"
      ]
    },
    {
      "cell_type": "code",
      "metadata": {
        "id": "yzfPZrNHSjXR"
      },
      "source": [
        "torch.cuda.empty_cache()"
      ],
      "execution_count": null,
      "outputs": []
    },
    {
      "cell_type": "code",
      "metadata": {
        "id": "rKG9izaSv_ph"
      },
      "source": [
        "model = MriNet(c).to(device)\n",
        "\n",
        "criterion = nn.NLLLoss().to(device)\n",
        "optimizer = torch.optim.Adam(model.parameters(), lr=3e-4)\n",
        "scheduler = torch.optim.lr_scheduler.MultiStepLR(optimizer, milestones=[5, 15], gamma=0.1)"
      ],
      "execution_count": null,
      "outputs": []
    },
    {
      "cell_type": "code",
      "metadata": {
        "id": "ETQqxi4CeFgm",
        "colab": {
          "base_uri": "https://localhost:8080/"
        },
        "outputId": "970b9d8e-086b-420b-9fb4-455f0f10c645"
      },
      "source": [
        "# training will take ~3 min\n",
        "#train model with accuracy metric\n",
        "torch.manual_seed(1)\n",
        "np.random.seed(1)\n",
        "EPOCHS = 20\n",
        "\n",
        "train_loss_list, val_loss_list, train_acc_list, val_acc_list = train(EPOCHS, model, criterion, optimizer, train_loader, val_loader, scheduler=scheduler, save=False) "
      ],
      "execution_count": null,
      "outputs": [
        {
          "output_type": "stream",
          "name": "stdout",
          "text": [
            "Epoch 00/20 || Loss:  Train 39.7695 | Validation 39.8970\n"
          ]
        },
        {
          "output_type": "stream",
          "name": "stderr",
          "text": [
            "  5%|▌         | 1/20 [00:23<07:35, 23.95s/it]"
          ]
        },
        {
          "output_type": "stream",
          "name": "stdout",
          "text": [
            "Epoch 01/20 || Loss:  Train 1.7140 | Validation 1.8952\n"
          ]
        },
        {
          "output_type": "stream",
          "name": "stderr",
          "text": [
            "\r 10%|█         | 2/20 [00:48<07:12, 24.03s/it]"
          ]
        },
        {
          "output_type": "stream",
          "name": "stdout",
          "text": [
            "Epoch 02/20 || Loss:  Train 0.3202 | Validation 0.3871\n"
          ]
        },
        {
          "output_type": "stream",
          "name": "stderr",
          "text": [
            "\r 15%|█▌        | 3/20 [01:12<06:50, 24.14s/it]"
          ]
        },
        {
          "output_type": "stream",
          "name": "stdout",
          "text": [
            "Epoch 03/20 || Loss:  Train 0.3107 | Validation 0.3986\n"
          ]
        },
        {
          "output_type": "stream",
          "name": "stderr",
          "text": [
            "\r 20%|██        | 4/20 [01:36<06:27, 24.24s/it]"
          ]
        },
        {
          "output_type": "stream",
          "name": "stdout",
          "text": [
            "Epoch 04/20 || Loss:  Train 0.2393 | Validation 0.2897\n"
          ]
        },
        {
          "output_type": "stream",
          "name": "stderr",
          "text": [
            "\r 25%|██▌       | 5/20 [02:01<06:04, 24.30s/it]"
          ]
        },
        {
          "output_type": "stream",
          "name": "stdout",
          "text": [
            "Epoch 05/20 || Loss:  Train 0.2217 | Validation 0.2887\n"
          ]
        },
        {
          "output_type": "stream",
          "name": "stderr",
          "text": [
            "\r 30%|███       | 6/20 [02:25<05:40, 24.35s/it]"
          ]
        },
        {
          "output_type": "stream",
          "name": "stdout",
          "text": [
            "Epoch 06/20 || Loss:  Train 0.2188 | Validation 0.2842\n"
          ]
        },
        {
          "output_type": "stream",
          "name": "stderr",
          "text": [
            "\r 35%|███▌      | 7/20 [02:49<05:16, 24.36s/it]"
          ]
        },
        {
          "output_type": "stream",
          "name": "stdout",
          "text": [
            "Epoch 07/20 || Loss:  Train 0.2179 | Validation 0.2867\n"
          ]
        },
        {
          "output_type": "stream",
          "name": "stderr",
          "text": [
            "\r 40%|████      | 8/20 [03:14<04:52, 24.38s/it]"
          ]
        },
        {
          "output_type": "stream",
          "name": "stdout",
          "text": [
            "Epoch 08/20 || Loss:  Train 0.2153 | Validation 0.2816\n"
          ]
        },
        {
          "output_type": "stream",
          "name": "stderr",
          "text": [
            "\r 45%|████▌     | 9/20 [03:38<04:28, 24.39s/it]"
          ]
        },
        {
          "output_type": "stream",
          "name": "stdout",
          "text": [
            "Epoch 09/20 || Loss:  Train 0.2171 | Validation 0.2907\n"
          ]
        },
        {
          "output_type": "stream",
          "name": "stderr",
          "text": [
            "\r 50%|█████     | 10/20 [04:03<04:03, 24.40s/it]"
          ]
        },
        {
          "output_type": "stream",
          "name": "stdout",
          "text": [
            "Epoch 10/20 || Loss:  Train 0.2206 | Validation 0.2990\n"
          ]
        },
        {
          "output_type": "stream",
          "name": "stderr",
          "text": [
            "\r 55%|█████▌    | 11/20 [04:27<03:39, 24.41s/it]"
          ]
        },
        {
          "output_type": "stream",
          "name": "stdout",
          "text": [
            "Epoch 11/20 || Loss:  Train 0.2107 | Validation 0.2816\n"
          ]
        },
        {
          "output_type": "stream",
          "name": "stderr",
          "text": [
            "\r 60%|██████    | 12/20 [04:52<03:15, 24.40s/it]"
          ]
        },
        {
          "output_type": "stream",
          "name": "stdout",
          "text": [
            "Epoch 12/20 || Loss:  Train 0.2082 | Validation 0.2775\n"
          ]
        },
        {
          "output_type": "stream",
          "name": "stderr",
          "text": [
            "\r 65%|██████▌   | 13/20 [05:16<02:50, 24.42s/it]"
          ]
        },
        {
          "output_type": "stream",
          "name": "stdout",
          "text": [
            "Epoch 13/20 || Loss:  Train 0.2073 | Validation 0.2744\n"
          ]
        },
        {
          "output_type": "stream",
          "name": "stderr",
          "text": [
            "\r 70%|███████   | 14/20 [05:40<02:26, 24.42s/it]"
          ]
        },
        {
          "output_type": "stream",
          "name": "stdout",
          "text": [
            "Epoch 14/20 || Loss:  Train 0.2081 | Validation 0.2747\n"
          ]
        },
        {
          "output_type": "stream",
          "name": "stderr",
          "text": [
            "\r 75%|███████▌  | 15/20 [06:05<02:02, 24.42s/it]"
          ]
        },
        {
          "output_type": "stream",
          "name": "stdout",
          "text": [
            "Epoch 15/20 || Loss:  Train 0.2057 | Validation 0.2728\n"
          ]
        },
        {
          "output_type": "stream",
          "name": "stderr",
          "text": [
            "\r 80%|████████  | 16/20 [06:29<01:37, 24.43s/it]"
          ]
        },
        {
          "output_type": "stream",
          "name": "stdout",
          "text": [
            "Epoch 16/20 || Loss:  Train 0.2019 | Validation 0.2728\n"
          ]
        },
        {
          "output_type": "stream",
          "name": "stderr",
          "text": [
            "\r 85%|████████▌ | 17/20 [06:54<01:13, 24.43s/it]"
          ]
        },
        {
          "output_type": "stream",
          "name": "stdout",
          "text": [
            "Epoch 17/20 || Loss:  Train 0.2016 | Validation 0.2743\n"
          ]
        },
        {
          "output_type": "stream",
          "name": "stderr",
          "text": [
            "\r 90%|█████████ | 18/20 [07:18<00:48, 24.43s/it]"
          ]
        },
        {
          "output_type": "stream",
          "name": "stdout",
          "text": [
            "Epoch 18/20 || Loss:  Train 0.2014 | Validation 0.2745\n"
          ]
        },
        {
          "output_type": "stream",
          "name": "stderr",
          "text": [
            "\r 95%|█████████▌| 19/20 [07:43<00:24, 24.43s/it]"
          ]
        },
        {
          "output_type": "stream",
          "name": "stdout",
          "text": [
            "Epoch 19/20 || Loss:  Train 0.2011 | Validation 0.2730\n"
          ]
        },
        {
          "output_type": "stream",
          "name": "stderr",
          "text": [
            "100%|██████████| 20/20 [08:07<00:00, 24.37s/it]"
          ]
        },
        {
          "output_type": "stream",
          "name": "stdout",
          "text": [
            "Epoch 20/20 || Loss:  Train 0.2010 | Validation 0.2740\n"
          ]
        },
        {
          "output_type": "stream",
          "name": "stderr",
          "text": [
            "\n"
          ]
        }
      ]
    },
    {
      "cell_type": "code",
      "metadata": {
        "id": "AgbxRc1RsPEl",
        "colab": {
          "base_uri": "https://localhost:8080/",
          "height": 413
        },
        "outputId": "9275e59b-9135-4403-b68a-6b357bcccb0c"
      },
      "source": [
        "plt.figure(figsize=(16,6))\n",
        "\n",
        "plt.subplot(1, 2, 1)\n",
        "plt.title('Loss history', fontsize=18)\n",
        "plt.plot(train_loss_list[1:], label='Train')\n",
        "plt.plot(val_loss_list[1:], label='Validation')\n",
        "plt.xlabel('# of epoch', fontsize=16)\n",
        "plt.ylabel('Loss', fontsize=16)\n",
        "plt.legend(fontsize=16)\n",
        "plt.minorticks_on()\n",
        "plt.grid()\n",
        "\n",
        "plt.subplot(1, 2, 2)\n",
        "plt.title('Accuracy history', fontsize=18)\n",
        "plt.plot(train_acc_list, label='Train')\n",
        "plt.plot(val_acc_list, label='Validation')\n",
        "plt.xlabel('# of epoch', fontsize=16)\n",
        "plt.ylabel('Accuracy', fontsize=16)\n",
        "plt.legend(fontsize=16)\n",
        "plt.minorticks_on()\n",
        "plt.grid()"
      ],
      "execution_count": null,
      "outputs": [
        {
          "output_type": "display_data",
          "data": {
            "image/png": "[encoded data removed]",
            "text/plain": [
              "<Figure size 1152x432 with 2 Axes>"
            ]
          },
          "metadata": {
            "needs_background": "light"
          }
        }
      ]
    },
    {
      "cell_type": "markdown",
      "metadata": {
        "id": "zHd48YKvX1K7"
      },
      "source": [
        "##### K-Fold model validation:"
      ]
    },
    {
      "cell_type": "markdown",
      "metadata": {
        "id": "L09Iq4ldX1K7"
      },
      "source": [
        "Questions:\n",
        "1. What is the purpose of K-Fold in that experiment setting?\n",
        "2. Can we afford cross-validation in regular DL?"
      ]
    },
    {
      "cell_type": "code",
      "metadata": {
        "colab": {
          "base_uri": "https://localhost:8080/"
        },
        "id": "T1KAk07vX1K7",
        "outputId": "7042e30d-b497-4e55-d281-f0bd38075c25"
      },
      "source": [
        "# execute for ~ 5 min\n",
        "skf = StratifiedKFold(n_splits=3, shuffle=True, random_state=42)\n",
        "cross_vall_acc_list = []\n",
        "j = 0\n",
        "\n",
        "for train_index, test_index in skf.split(X, y):\n",
        "    print('Doing {} split'.format(j))\n",
        "    j += 1\n",
        "\n",
        "    X_train, X_test = X[train_index], X[test_index]\n",
        "    y_train, y_test = y[train_index], y[test_index]\n",
        "    train_dataset = MriData(X_train, y_train)\n",
        "    test_dataset = MriData(X_test, y_test)\n",
        "    train_loader = torch.utils.data.DataLoader(train_dataset, batch_size=45, shuffle=True)  #45 - recommended value for batchsize\n",
        "    val_loader = torch.utils.data.DataLoader(test_dataset, batch_size=28, shuffle=False) \n",
        "    \n",
        "    torch.manual_seed(1)\n",
        "    np.random.seed(1)\n",
        "\n",
        "    c = 32\n",
        "    model = MriNet(c).to(device)\n",
        "    criterion = nn.NLLLoss().to(device)\n",
        "    optimizer = torch.optim.Adam(model.parameters(), lr=3e-4)\n",
        "    scheduler = torch.optim.lr_scheduler.MultiStepLR(optimizer, milestones=[5, 15], gamma=0.1)\n",
        "\n",
        "    train(EPOCHS, model, criterion, optimizer, train_loader, val_loader, scheduler=scheduler, save=False, verbose=False) \n",
        "    cross_vall_acc_list.append(get_accuracy(model, val_loader))\n"
      ],
      "execution_count": null,
      "outputs": [
        {
          "output_type": "stream",
          "name": "stdout",
          "text": [
            "Doing 0 split\n"
          ]
        },
        {
          "output_type": "stream",
          "name": "stderr",
          "text": [
            "100%|██████████| 20/20 [07:42<00:00, 23.12s/it]\n"
          ]
        },
        {
          "output_type": "stream",
          "name": "stdout",
          "text": [
            "Doing 1 split\n"
          ]
        },
        {
          "output_type": "stream",
          "name": "stderr",
          "text": [
            "100%|██████████| 20/20 [07:42<00:00, 23.13s/it]\n"
          ]
        },
        {
          "output_type": "stream",
          "name": "stdout",
          "text": [
            "Doing 2 split\n"
          ]
        },
        {
          "output_type": "stream",
          "name": "stderr",
          "text": [
            "100%|██████████| 20/20 [07:44<00:00, 23.24s/it]\n"
          ]
        }
      ]
    },
    {
      "cell_type": "code",
      "metadata": {
        "id": "alO2rHhhX1K7",
        "colab": {
          "base_uri": "https://localhost:8080/"
        },
        "outputId": "33140652-3552-4e46-cf84-b7e59274f60c"
      },
      "source": [
        "print('Average cross-validation accuracy (3-folds):', sum(cross_vall_acc_list)/len(cross_vall_acc_list))"
      ],
      "execution_count": null,
      "outputs": [
        {
          "output_type": "stream",
          "name": "stdout",
          "text": [
            "Average cross-validation accuracy (3-folds): 89.75741322835286\n"
          ]
        }
      ]
    },
    {
      "cell_type": "code",
      "metadata": {
        "id": "xPrWUgyv9q5z"
      },
      "source": [
        "#Save model\n",
        "PATH = '/content/drive/MyDrive/Учеба/Diplom/model_classification_weights'\n",
        "torch.save(model, PATH)"
      ],
      "execution_count": null,
      "outputs": []
    },
    {
      "cell_type": "markdown",
      "metadata": {
        "id": "ttVICPHuYjID"
      },
      "source": [
        "### Train model with ROC_AUC metric"
      ]
    },
    {
      "cell_type": "code",
      "metadata": {
        "id": "QolNwAlXtshl"
      },
      "source": [
        "torch.cuda.empty_cache()"
      ],
      "execution_count": null,
      "outputs": []
    },
    {
      "cell_type": "code",
      "metadata": {
        "id": "e-ERnsWrt95q"
      },
      "source": [
        "#train model with roc_auc metric\n",
        "model = MriNet(c).to(device)\n",
        "\n",
        "criterion = nn.NLLLoss().to(device)\n",
        "optimizer = torch.optim.Adam(model.parameters(), lr=3e-4)\n",
        "scheduler = torch.optim.lr_scheduler.MultiStepLR(optimizer, milestones=[5, 15], gamma=0.1)"
      ],
      "execution_count": null,
      "outputs": []
    },
    {
      "cell_type": "code",
      "metadata": {
        "colab": {
          "base_uri": "https://localhost:8080/"
        },
        "id": "klk8Xw4utshm",
        "outputId": "8613a67b-b0c2-4ac0-fb29-5c04d0ae3394"
      },
      "source": [
        "# training will take ~3 min\n",
        "torch.manual_seed(1)\n",
        "np.random.seed(1)\n",
        "EPOCHS = 20\n",
        "\n",
        "train_loss_list, val_loss_list, train_acc_list, val_acc_list = train_roc_auc(EPOCHS, model, criterion, optimizer, train_loader, val_loader, scheduler=scheduler, save=False) "
      ],
      "execution_count": null,
      "outputs": [
        {
          "output_type": "stream",
          "name": "stdout",
          "text": [
            "Epoch 00/20 || Loss:  Train 39.7695 | Validation 39.8970\n"
          ]
        },
        {
          "output_type": "stream",
          "name": "stderr",
          "text": [
            "  5%|▌         | 1/20 [00:24<07:39, 24.18s/it]"
          ]
        },
        {
          "output_type": "stream",
          "name": "stdout",
          "text": [
            "Epoch 01/20 || Loss:  Train 1.7130 | Validation 1.8943\n"
          ]
        },
        {
          "output_type": "stream",
          "name": "stderr",
          "text": [
            "\r 10%|█         | 2/20 [00:48<07:17, 24.28s/it]"
          ]
        },
        {
          "output_type": "stream",
          "name": "stdout",
          "text": [
            "Epoch 02/20 || Loss:  Train 0.3200 | Validation 0.3869\n"
          ]
        },
        {
          "output_type": "stream",
          "name": "stderr",
          "text": [
            "\r 15%|█▌        | 3/20 [01:13<06:54, 24.38s/it]"
          ]
        },
        {
          "output_type": "stream",
          "name": "stdout",
          "text": [
            "Epoch 03/20 || Loss:  Train 0.3121 | Validation 0.4008\n"
          ]
        },
        {
          "output_type": "stream",
          "name": "stderr",
          "text": [
            "\r 20%|██        | 4/20 [01:37<06:30, 24.43s/it]"
          ]
        },
        {
          "output_type": "stream",
          "name": "stdout",
          "text": [
            "Epoch 04/20 || Loss:  Train 0.2396 | Validation 0.2899\n"
          ]
        },
        {
          "output_type": "stream",
          "name": "stderr",
          "text": [
            "\r 25%|██▌       | 5/20 [02:01<06:06, 24.43s/it]"
          ]
        },
        {
          "output_type": "stream",
          "name": "stdout",
          "text": [
            "Epoch 05/20 || Loss:  Train 0.2220 | Validation 0.2893\n"
          ]
        },
        {
          "output_type": "stream",
          "name": "stderr",
          "text": [
            "\r 30%|███       | 6/20 [02:26<05:42, 24.44s/it]"
          ]
        },
        {
          "output_type": "stream",
          "name": "stdout",
          "text": [
            "Epoch 06/20 || Loss:  Train 0.2189 | Validation 0.2844\n"
          ]
        },
        {
          "output_type": "stream",
          "name": "stderr",
          "text": [
            "\r 35%|███▌      | 7/20 [02:50<05:17, 24.42s/it]"
          ]
        },
        {
          "output_type": "stream",
          "name": "stdout",
          "text": [
            "Epoch 07/20 || Loss:  Train 0.2179 | Validation 0.2866\n"
          ]
        },
        {
          "output_type": "stream",
          "name": "stderr",
          "text": [
            "\r 40%|████      | 8/20 [03:15<04:53, 24.43s/it]"
          ]
        },
        {
          "output_type": "stream",
          "name": "stdout",
          "text": [
            "Epoch 08/20 || Loss:  Train 0.2154 | Validation 0.2815\n"
          ]
        },
        {
          "output_type": "stream",
          "name": "stderr",
          "text": [
            "\r 45%|████▌     | 9/20 [03:39<04:28, 24.43s/it]"
          ]
        },
        {
          "output_type": "stream",
          "name": "stdout",
          "text": [
            "Epoch 09/20 || Loss:  Train 0.2171 | Validation 0.2905\n"
          ]
        },
        {
          "output_type": "stream",
          "name": "stderr",
          "text": [
            "\r 50%|█████     | 10/20 [04:04<04:04, 24.44s/it]"
          ]
        },
        {
          "output_type": "stream",
          "name": "stdout",
          "text": [
            "Epoch 10/20 || Loss:  Train 0.2207 | Validation 0.2989\n"
          ]
        },
        {
          "output_type": "stream",
          "name": "stderr",
          "text": [
            "\r 55%|█████▌    | 11/20 [04:28<03:39, 24.44s/it]"
          ]
        },
        {
          "output_type": "stream",
          "name": "stdout",
          "text": [
            "Epoch 11/20 || Loss:  Train 0.2108 | Validation 0.2817\n"
          ]
        },
        {
          "output_type": "stream",
          "name": "stderr",
          "text": [
            "\r 60%|██████    | 12/20 [04:53<03:15, 24.44s/it]"
          ]
        },
        {
          "output_type": "stream",
          "name": "stdout",
          "text": [
            "Epoch 12/20 || Loss:  Train 0.2083 | Validation 0.2775\n"
          ]
        },
        {
          "output_type": "stream",
          "name": "stderr",
          "text": [
            "\r 65%|██████▌   | 13/20 [05:17<02:51, 24.44s/it]"
          ]
        },
        {
          "output_type": "stream",
          "name": "stdout",
          "text": [
            "Epoch 13/20 || Loss:  Train 0.2075 | Validation 0.2744\n"
          ]
        },
        {
          "output_type": "stream",
          "name": "stderr",
          "text": [
            "\r 70%|███████   | 14/20 [05:41<02:26, 24.44s/it]"
          ]
        },
        {
          "output_type": "stream",
          "name": "stdout",
          "text": [
            "Epoch 14/20 || Loss:  Train 0.2082 | Validation 0.2747\n"
          ]
        },
        {
          "output_type": "stream",
          "name": "stderr",
          "text": [
            "\r 75%|███████▌  | 15/20 [06:06<02:02, 24.44s/it]"
          ]
        },
        {
          "output_type": "stream",
          "name": "stdout",
          "text": [
            "Epoch 15/20 || Loss:  Train 0.2060 | Validation 0.2730\n"
          ]
        },
        {
          "output_type": "stream",
          "name": "stderr",
          "text": [
            "\r 80%|████████  | 16/20 [06:30<01:37, 24.44s/it]"
          ]
        },
        {
          "output_type": "stream",
          "name": "stdout",
          "text": [
            "Epoch 16/20 || Loss:  Train 0.2021 | Validation 0.2729\n"
          ]
        },
        {
          "output_type": "stream",
          "name": "stderr",
          "text": [
            "\r 85%|████████▌ | 17/20 [06:55<01:13, 24.46s/it]"
          ]
        },
        {
          "output_type": "stream",
          "name": "stdout",
          "text": [
            "Epoch 17/20 || Loss:  Train 0.2018 | Validation 0.2744\n"
          ]
        },
        {
          "output_type": "stream",
          "name": "stderr",
          "text": [
            "\r 90%|█████████ | 18/20 [07:19<00:48, 24.46s/it]"
          ]
        },
        {
          "output_type": "stream",
          "name": "stdout",
          "text": [
            "Epoch 18/20 || Loss:  Train 0.2016 | Validation 0.2746\n"
          ]
        },
        {
          "output_type": "stream",
          "name": "stderr",
          "text": [
            "\r 95%|█████████▌| 19/20 [07:44<00:24, 24.47s/it]"
          ]
        },
        {
          "output_type": "stream",
          "name": "stdout",
          "text": [
            "Epoch 19/20 || Loss:  Train 0.2013 | Validation 0.2731\n"
          ]
        },
        {
          "output_type": "stream",
          "name": "stderr",
          "text": [
            "100%|██████████| 20/20 [08:08<00:00, 24.43s/it]"
          ]
        },
        {
          "output_type": "stream",
          "name": "stdout",
          "text": [
            "Epoch 20/20 || Loss:  Train 0.2011 | Validation 0.2740\n"
          ]
        },
        {
          "output_type": "stream",
          "name": "stderr",
          "text": [
            "\n"
          ]
        }
      ]
    },
    {
      "cell_type": "code",
      "metadata": {
        "colab": {
          "base_uri": "https://localhost:8080/",
          "height": 413
        },
        "id": "pLp3Iddttshn",
        "outputId": "567a40d0-7c55-41c8-9fd5-7da109b2e606"
      },
      "source": [
        "plt.figure(figsize=(16,6))\n",
        "\n",
        "plt.subplot(1, 2, 1)\n",
        "plt.title('Loss history', fontsize=18)\n",
        "plt.plot(train_loss_list[1:], label='Train')\n",
        "plt.plot(val_loss_list[1:], label='Validation')\n",
        "plt.xlabel('# of epoch', fontsize=16)\n",
        "plt.ylabel('Loss', fontsize=16)\n",
        "plt.legend(fontsize=16)\n",
        "plt.minorticks_on()\n",
        "plt.grid()\n",
        "\n",
        "plt.subplot(1, 2, 2)\n",
        "plt.title('ROC_AUC history', fontsize=18)\n",
        "plt.plot(train_acc_list, label='Train')\n",
        "plt.plot(val_acc_list, label='Validation')\n",
        "plt.xlabel('# of epoch', fontsize=16)\n",
        "plt.ylabel('ROC_AUC', fontsize=16)\n",
        "plt.legend(fontsize=16)\n",
        "plt.minorticks_on()\n",
        "plt.grid()"
      ],
      "execution_count": null,
      "outputs": [
        {
          "output_type": "display_data",
          "data": {
            "image/png": "[encoded data removed]",
            "text/plain": [
              "<Figure size 1152x432 with 2 Axes>"
            ]
          },
          "metadata": {
            "needs_background": "light"
          }
        }
      ]
    },
    {
      "cell_type": "code",
      "metadata": {
        "id": "bTZvmfMM9RmD"
      },
      "source": [
        "#Save model with roc_auc\n",
        "PATH = '/content/drive/MyDrive/Учеба/Diplom/model_classification_weights_roc_auc'\n",
        "torch.save(model, PATH)"
      ],
      "execution_count": null,
      "outputs": []
    },
    {
      "cell_type": "markdown",
      "metadata": {
        "id": "yT6IWFRS9E77"
      },
      "source": [
        "### ABIDE data"
      ]
    },
    {
      "cell_type": "code",
      "metadata": {
        "id": "gP60YY7plETT",
        "colab": {
          "base_uri": "https://localhost:8080/"
        },
        "outputId": "57552425-0249-4af3-e93c-c3714ad2f007"
      },
      "source": [
        "selected_all_sum_tensor = torch.load('/content/drive/MyDrive/abideI-mni/T1_ss_mni_64_all-sites-I').float()\n",
        "selected_all_sum_tensor = F.pad(selected_all_sum_tensor, pad=(6,6,6,6,6,6))\n",
        "\n",
        "print(selected_all_sum_tensor.shape)\n",
        "\n",
        "selected_all_sum_tensor = selected_all_sum_tensor[..., 10:68, 0:70, 18:76] \n",
        "selected_all_sum_tensor.shape"
      ],
      "execution_count": null,
      "outputs": [
        {
          "output_type": "stream",
          "name": "stdout",
          "text": [
            "torch.Size([1093, 76, 76, 76])\n"
          ]
        },
        {
          "output_type": "execute_result",
          "data": {
            "text/plain": [
              "torch.Size([1093, 58, 70, 58])"
            ]
          },
          "metadata": {},
          "execution_count": 9
        }
      ]
    },
    {
      "cell_type": "code",
      "metadata": {
        "id": "RCQEjaoJJv6Z"
      },
      "source": [
        "selected_all_sum_tensor = selected_all_sum_tensor[:, np.newaxis, :, :, :]"
      ],
      "execution_count": null,
      "outputs": []
    },
    {
      "cell_type": "code",
      "metadata": {
        "id": "9AekcIBsqiYt"
      },
      "source": [
        "target = torch.load('/content/drive/MyDrive/abideI-mni/sexes_all-sites-I')"
      ],
      "execution_count": null,
      "outputs": []
    },
    {
      "cell_type": "code",
      "metadata": {
        "id": "fswyGf708Aw8"
      },
      "source": [
        "new_target = []\n",
        "for t in target:\n",
        "  if t == 1:\n",
        "    t = 0\n",
        "    new_target.append(t)\n",
        "  else:\n",
        "    t = 1\n",
        "    new_target.append(t)\n",
        "target = torch.tensor(new_target)"
      ],
      "execution_count": null,
      "outputs": []
    },
    {
      "cell_type": "code",
      "metadata": {
        "id": "kPKZVxAaNPjg"
      },
      "source": [
        "class MriData(torch.utils.data.Dataset):\n",
        "    def __init__(self, X, y):\n",
        "        super(MriData, self).__init__()\n",
        "        self.X = X.type(torch.float32)\n",
        "        self.y = y.type(torch.long)\n",
        "    \n",
        "    def __len__(self):\n",
        "        return self.X.shape[0]\n",
        "    \n",
        "    def __getitem__(self, idx):\n",
        "        return self.X[idx], self.y[idx]\n",
        "    \n",
        "    def get_labels(self):\n",
        "        return self.y"
      ],
      "execution_count": null,
      "outputs": []
    },
    {
      "cell_type": "code",
      "metadata": {
        "id": "SzkwrEvVwrO-"
      },
      "source": [
        "X_train, X_test, y_train, y_test = train_test_split(selected_all_sum_tensor, target, test_size=0.20, random_state=42) \n",
        "\n",
        "train_dataset = MriData(X_train, y_train)\n",
        "test_dataset = MriData(X_test, y_test)"
      ],
      "execution_count": null,
      "outputs": []
    },
    {
      "cell_type": "code",
      "metadata": {
        "id": "BFeCAiAwEfKr"
      },
      "source": [
        "train_loader = torch.utils.data.DataLoader(train_dataset, batch_size=45, shuffle=True) \n",
        "val_loader = torch.utils.data.DataLoader(test_dataset, batch_size=28, shuffle=False) "
      ],
      "execution_count": null,
      "outputs": []
    },
    {
      "cell_type": "code",
      "metadata": {
        "id": "mXuESG2cE7Lg"
      },
      "source": [
        "#train model with accuracy metric\n",
        "model = MriNet(c).to(device)\n",
        "\n",
        "criterion = nn.NLLLoss().to(device)\n",
        "optimizer = torch.optim.Adam(model.parameters(), lr=3e-4)\n",
        "scheduler = torch.optim.lr_scheduler.MultiStepLR(optimizer, milestones=[5, 15], gamma=0.1)"
      ],
      "execution_count": null,
      "outputs": []
    },
    {
      "cell_type": "code",
      "metadata": {
        "colab": {
          "base_uri": "https://localhost:8080/"
        },
        "id": "PlM2QVoO9ADk",
        "outputId": "dd128147-aec1-40f1-e5c4-16535c47fa0a"
      },
      "source": [
        "# training will take ~3 min\n",
        "torch.manual_seed(1)\n",
        "np.random.seed(1)\n",
        "EPOCHS = 20\n",
        "\n",
        "train_loss_list, val_loss_list, train_acc_list, val_acc_list = train(EPOCHS, model, criterion, optimizer, train_loader, val_loader, scheduler=scheduler, save=False) "
      ],
      "execution_count": null,
      "outputs": [
        {
          "output_type": "stream",
          "name": "stdout",
          "text": [
            "Epoch 00/20 || Loss:  Train 83.7573 | Validation 72.3414\n"
          ]
        },
        {
          "output_type": "stream",
          "name": "stderr",
          "text": [
            "  5%|▌         | 1/20 [00:23<07:34, 23.93s/it]"
          ]
        },
        {
          "output_type": "stream",
          "name": "stdout",
          "text": [
            "Epoch 01/20 || Loss:  Train 0.5232 | Validation 0.5120\n"
          ]
        },
        {
          "output_type": "stream",
          "name": "stderr",
          "text": [
            "\r 10%|█         | 2/20 [00:48<07:12, 24.03s/it]"
          ]
        },
        {
          "output_type": "stream",
          "name": "stdout",
          "text": [
            "Epoch 02/20 || Loss:  Train 0.4680 | Validation 0.4643\n"
          ]
        },
        {
          "output_type": "stream",
          "name": "stderr",
          "text": [
            "\r 15%|█▌        | 3/20 [01:12<06:48, 24.05s/it]"
          ]
        },
        {
          "output_type": "stream",
          "name": "stdout",
          "text": [
            "Epoch 03/20 || Loss:  Train 0.5685 | Validation 0.5242\n"
          ]
        },
        {
          "output_type": "stream",
          "name": "stderr",
          "text": [
            "\r 20%|██        | 4/20 [01:36<06:24, 24.01s/it]"
          ]
        },
        {
          "output_type": "stream",
          "name": "stdout",
          "text": [
            "Epoch 04/20 || Loss:  Train 0.4960 | Validation 0.4867\n"
          ]
        },
        {
          "output_type": "stream",
          "name": "stderr",
          "text": [
            "\r 25%|██▌       | 5/20 [01:59<05:59, 23.98s/it]"
          ]
        },
        {
          "output_type": "stream",
          "name": "stdout",
          "text": [
            "Epoch 05/20 || Loss:  Train 0.4120 | Validation 0.4235\n"
          ]
        },
        {
          "output_type": "stream",
          "name": "stderr",
          "text": [
            "\r 30%|███       | 6/20 [02:23<05:35, 23.96s/it]"
          ]
        },
        {
          "output_type": "stream",
          "name": "stdout",
          "text": [
            "Epoch 06/20 || Loss:  Train 0.4069 | Validation 0.4195\n"
          ]
        },
        {
          "output_type": "stream",
          "name": "stderr",
          "text": [
            "\r 35%|███▌      | 7/20 [02:47<05:11, 23.95s/it]"
          ]
        },
        {
          "output_type": "stream",
          "name": "stdout",
          "text": [
            "Epoch 07/20 || Loss:  Train 0.4127 | Validation 0.4222\n"
          ]
        },
        {
          "output_type": "stream",
          "name": "stderr",
          "text": [
            "\r 40%|████      | 8/20 [03:11<04:47, 23.94s/it]"
          ]
        },
        {
          "output_type": "stream",
          "name": "stdout",
          "text": [
            "Epoch 08/20 || Loss:  Train 0.4084 | Validation 0.4205\n"
          ]
        },
        {
          "output_type": "stream",
          "name": "stderr",
          "text": [
            "\r 45%|████▌     | 9/20 [03:35<04:23, 23.93s/it]"
          ]
        },
        {
          "output_type": "stream",
          "name": "stdout",
          "text": [
            "Epoch 09/20 || Loss:  Train 0.4062 | Validation 0.4209\n"
          ]
        },
        {
          "output_type": "stream",
          "name": "stderr",
          "text": [
            "\r 50%|█████     | 10/20 [03:59<03:59, 23.93s/it]"
          ]
        },
        {
          "output_type": "stream",
          "name": "stdout",
          "text": [
            "Epoch 10/20 || Loss:  Train 0.4015 | Validation 0.4166\n"
          ]
        },
        {
          "output_type": "stream",
          "name": "stderr",
          "text": [
            "\r 55%|█████▌    | 11/20 [04:23<03:35, 23.93s/it]"
          ]
        },
        {
          "output_type": "stream",
          "name": "stdout",
          "text": [
            "Epoch 11/20 || Loss:  Train 0.4179 | Validation 0.4322\n"
          ]
        },
        {
          "output_type": "stream",
          "name": "stderr",
          "text": [
            "\r 60%|██████    | 12/20 [04:47<03:11, 23.92s/it]"
          ]
        },
        {
          "output_type": "stream",
          "name": "stdout",
          "text": [
            "Epoch 12/20 || Loss:  Train 0.4118 | Validation 0.4268\n"
          ]
        },
        {
          "output_type": "stream",
          "name": "stderr",
          "text": [
            "\r 65%|██████▌   | 13/20 [05:11<02:47, 23.92s/it]"
          ]
        },
        {
          "output_type": "stream",
          "name": "stdout",
          "text": [
            "Epoch 13/20 || Loss:  Train 0.3997 | Validation 0.4151\n"
          ]
        },
        {
          "output_type": "stream",
          "name": "stderr",
          "text": [
            "\r 70%|███████   | 14/20 [05:35<02:23, 23.92s/it]"
          ]
        },
        {
          "output_type": "stream",
          "name": "stdout",
          "text": [
            "Epoch 14/20 || Loss:  Train 0.4006 | Validation 0.4155\n"
          ]
        },
        {
          "output_type": "stream",
          "name": "stderr",
          "text": [
            "\r 75%|███████▌  | 15/20 [05:59<01:59, 23.93s/it]"
          ]
        },
        {
          "output_type": "stream",
          "name": "stdout",
          "text": [
            "Epoch 15/20 || Loss:  Train 0.4007 | Validation 0.4172\n"
          ]
        },
        {
          "output_type": "stream",
          "name": "stderr",
          "text": [
            "\r 80%|████████  | 16/20 [06:23<01:35, 23.93s/it]"
          ]
        },
        {
          "output_type": "stream",
          "name": "stdout",
          "text": [
            "Epoch 16/20 || Loss:  Train 0.3989 | Validation 0.4165\n"
          ]
        },
        {
          "output_type": "stream",
          "name": "stderr",
          "text": [
            "\r 85%|████████▌ | 17/20 [06:47<01:11, 23.93s/it]"
          ]
        },
        {
          "output_type": "stream",
          "name": "stdout",
          "text": [
            "Epoch 17/20 || Loss:  Train 0.3986 | Validation 0.4174\n"
          ]
        },
        {
          "output_type": "stream",
          "name": "stderr",
          "text": [
            "\r 90%|█████████ | 18/20 [07:10<00:47, 23.93s/it]"
          ]
        },
        {
          "output_type": "stream",
          "name": "stdout",
          "text": [
            "Epoch 18/20 || Loss:  Train 0.3975 | Validation 0.4140\n"
          ]
        },
        {
          "output_type": "stream",
          "name": "stderr",
          "text": [
            "\r 95%|█████████▌| 19/20 [07:34<00:23, 23.93s/it]"
          ]
        },
        {
          "output_type": "stream",
          "name": "stdout",
          "text": [
            "Epoch 19/20 || Loss:  Train 0.3975 | Validation 0.4154\n"
          ]
        },
        {
          "output_type": "stream",
          "name": "stderr",
          "text": [
            "100%|██████████| 20/20 [07:58<00:00, 23.94s/it]"
          ]
        },
        {
          "output_type": "stream",
          "name": "stdout",
          "text": [
            "Epoch 20/20 || Loss:  Train 0.3974 | Validation 0.4145\n"
          ]
        },
        {
          "output_type": "stream",
          "name": "stderr",
          "text": [
            "\n"
          ]
        }
      ]
    },
    {
      "cell_type": "code",
      "metadata": {
        "colab": {
          "base_uri": "https://localhost:8080/",
          "height": 413
        },
        "id": "P54AsWue8P40",
        "outputId": "54880cc4-1eb4-485d-a8c4-382f2558b068"
      },
      "source": [
        "plt.figure(figsize=(16,6))\n",
        "\n",
        "plt.subplot(1, 2, 1)\n",
        "plt.title('Loss history', fontsize=18)\n",
        "plt.plot(train_loss_list[1:], label='Train')\n",
        "plt.plot(val_loss_list[1:], label='Validation')\n",
        "plt.xlabel('# of epoch', fontsize=16)\n",
        "plt.ylabel('Loss', fontsize=16)\n",
        "plt.legend(fontsize=16)\n",
        "plt.minorticks_on()\n",
        "plt.grid()\n",
        "\n",
        "plt.subplot(1, 2, 2)\n",
        "plt.title('Accuracy history', fontsize=18)\n",
        "plt.plot(train_acc_list, label='Train')\n",
        "plt.plot(val_acc_list, label='Validation')\n",
        "plt.xlabel('# of epoch', fontsize=16)\n",
        "plt.ylabel('Accuracy', fontsize=16)\n",
        "plt.legend(fontsize=16)\n",
        "plt.minorticks_on()\n",
        "plt.grid()"
      ],
      "execution_count": null,
      "outputs": [
        {
          "output_type": "display_data",
          "data": {
            "image/png": "[encoded data removed]",
            "text/plain": [
              "<Figure size 1152x432 with 2 Axes>"
            ]
          },
          "metadata": {
            "needs_background": "light"
          }
        }
      ]
    },
    {
      "cell_type": "markdown",
      "metadata": {
        "id": "NUfRONx6cB-P"
      },
      "source": [
        "##### K-Fold model validation:"
      ]
    },
    {
      "cell_type": "code",
      "metadata": {
        "colab": {
          "base_uri": "https://localhost:8080/"
        },
        "id": "Sh-2PQVwcB-P",
        "outputId": "661e366d-ce47-4276-ef0e-f9d659d5bf9b"
      },
      "source": [
        "# execute for ~ 5 min\n",
        "skf = StratifiedKFold(n_splits=3, shuffle=True, random_state=42)\n",
        "cross_vall_acc_list = []\n",
        "j = 0\n",
        "\n",
        "for train_index, test_index in skf.split(selected_all_sum_tensor, target):\n",
        "    print('Doing {} split'.format(j))\n",
        "    j += 1\n",
        "\n",
        "    X_train, X_test = X[train_index], X[test_index]\n",
        "    y_train, y_test = y[train_index], y[test_index]\n",
        "    train_dataset = MriData(X_train, y_train)\n",
        "    test_dataset = MriData(X_test, y_test)\n",
        "    train_loader = torch.utils.data.DataLoader(train_dataset, batch_size=45, shuffle=True)  #45 - recommended value for batchsize\n",
        "    val_loader = torch.utils.data.DataLoader(test_dataset, batch_size=28, shuffle=False) \n",
        "    \n",
        "    torch.manual_seed(1)\n",
        "    np.random.seed(1)\n",
        "\n",
        "    c = 32\n",
        "    model = MriNet(c).to(device)\n",
        "    criterion = nn.NLLLoss().to(device)\n",
        "    optimizer = torch.optim.Adam(model.parameters(), lr=3e-4)\n",
        "    scheduler = torch.optim.lr_scheduler.MultiStepLR(optimizer, milestones=[5, 15], gamma=0.1)\n",
        "\n",
        "    train(EPOCHS, model, criterion, optimizer, train_loader, val_loader, scheduler=scheduler, save=False, verbose=False) \n",
        "    cross_vall_acc_list.append(get_accuracy(model, val_loader))\n"
      ],
      "execution_count": null,
      "outputs": [
        {
          "output_type": "stream",
          "name": "stdout",
          "text": [
            "Doing 0 split\n"
          ]
        },
        {
          "output_type": "stream",
          "name": "stderr",
          "text": [
            "100%|██████████| 20/20 [07:32<00:00, 22.63s/it]\n"
          ]
        },
        {
          "output_type": "stream",
          "name": "stdout",
          "text": [
            "Doing 1 split\n"
          ]
        },
        {
          "output_type": "stream",
          "name": "stderr",
          "text": [
            "100%|██████████| 20/20 [07:34<00:00, 22.74s/it]\n"
          ]
        },
        {
          "output_type": "stream",
          "name": "stdout",
          "text": [
            "Doing 2 split\n"
          ]
        },
        {
          "output_type": "stream",
          "name": "stderr",
          "text": [
            "100%|██████████| 20/20 [07:36<00:00, 22.82s/it]\n"
          ]
        }
      ]
    },
    {
      "cell_type": "code",
      "metadata": {
        "id": "UefdP7XdcB-P",
        "colab": {
          "base_uri": "https://localhost:8080/"
        },
        "outputId": "791b8318-61d6-4834-ebb8-08ffc2c0a0ae"
      },
      "source": [
        "print('Average cross-validation accuracy (3-folds):', sum(cross_vall_acc_list)/len(cross_vall_acc_list))"
      ],
      "execution_count": null,
      "outputs": [
        {
          "output_type": "stream",
          "name": "stdout",
          "text": [
            "Average cross-validation accuracy (3-folds): 90.02709706624348\n"
          ]
        }
      ]
    },
    {
      "cell_type": "code",
      "metadata": {
        "id": "FCY_2gliBWUu"
      },
      "source": [
        "#train model with roc_auc metric\n",
        "model = MriNet(c).to(device)\n",
        "\n",
        "criterion = nn.NLLLoss().to(device)\n",
        "optimizer = torch.optim.Adam(model.parameters(), lr=3e-4)\n",
        "scheduler = torch.optim.lr_scheduler.MultiStepLR(optimizer, milestones=[5, 15], gamma=0.1)"
      ],
      "execution_count": null,
      "outputs": []
    },
    {
      "cell_type": "code",
      "metadata": {
        "colab": {
          "base_uri": "https://localhost:8080/"
        },
        "id": "iiJD2HNHBPZl",
        "outputId": "847b11f3-791d-41a7-e289-a354f63e0bd8"
      },
      "source": [
        "# training will take ~3 min\n",
        "torch.manual_seed(1)\n",
        "np.random.seed(1)\n",
        "EPOCHS = 20\n",
        "\n",
        "train_loss_list, val_loss_list, train_acc_list, val_acc_list = train_roc_auc(EPOCHS, model, criterion, optimizer, train_loader, val_loader, scheduler=scheduler, save=False) "
      ],
      "execution_count": null,
      "outputs": [
        {
          "output_type": "stream",
          "name": "stdout",
          "text": [
            "Epoch 00/20 || Loss:  Train 15.5826 | Validation 14.6674\n"
          ]
        },
        {
          "output_type": "stream",
          "name": "stderr",
          "text": [
            "  5%|▌         | 1/20 [00:23<07:30, 23.70s/it]"
          ]
        },
        {
          "output_type": "stream",
          "name": "stdout",
          "text": [
            "Epoch 01/20 || Loss:  Train 0.6728 | Validation 0.6018\n"
          ]
        },
        {
          "output_type": "stream",
          "name": "stderr",
          "text": [
            "\r 10%|█         | 2/20 [00:47<07:07, 23.77s/it]"
          ]
        },
        {
          "output_type": "stream",
          "name": "stdout",
          "text": [
            "Epoch 02/20 || Loss:  Train 0.4349 | Validation 0.4368\n"
          ]
        },
        {
          "output_type": "stream",
          "name": "stderr",
          "text": [
            "\r 15%|█▌        | 3/20 [01:11<06:44, 23.80s/it]"
          ]
        },
        {
          "output_type": "stream",
          "name": "stdout",
          "text": [
            "Epoch 03/20 || Loss:  Train 0.4293 | Validation 0.4310\n"
          ]
        },
        {
          "output_type": "stream",
          "name": "stderr",
          "text": [
            "\r 20%|██        | 4/20 [01:35<06:21, 23.84s/it]"
          ]
        },
        {
          "output_type": "stream",
          "name": "stdout",
          "text": [
            "Epoch 04/20 || Loss:  Train 0.4862 | Validation 0.4739\n"
          ]
        },
        {
          "output_type": "stream",
          "name": "stderr",
          "text": [
            "\r 25%|██▌       | 5/20 [01:59<05:57, 23.86s/it]"
          ]
        },
        {
          "output_type": "stream",
          "name": "stdout",
          "text": [
            "Epoch 05/20 || Loss:  Train 0.4041 | Validation 0.4194\n"
          ]
        },
        {
          "output_type": "stream",
          "name": "stderr",
          "text": [
            "\r 30%|███       | 6/20 [02:23<05:34, 23.88s/it]"
          ]
        },
        {
          "output_type": "stream",
          "name": "stdout",
          "text": [
            "Epoch 06/20 || Loss:  Train 0.4035 | Validation 0.4178\n"
          ]
        },
        {
          "output_type": "stream",
          "name": "stderr",
          "text": [
            "\r 35%|███▌      | 7/20 [02:46<05:10, 23.89s/it]"
          ]
        },
        {
          "output_type": "stream",
          "name": "stdout",
          "text": [
            "Epoch 07/20 || Loss:  Train 0.4131 | Validation 0.4241\n"
          ]
        },
        {
          "output_type": "stream",
          "name": "stderr",
          "text": [
            "\r 40%|████      | 8/20 [03:10<04:46, 23.89s/it]"
          ]
        },
        {
          "output_type": "stream",
          "name": "stdout",
          "text": [
            "Epoch 08/20 || Loss:  Train 0.4055 | Validation 0.4205\n"
          ]
        },
        {
          "output_type": "stream",
          "name": "stderr",
          "text": [
            "\r 45%|████▌     | 9/20 [03:34<04:22, 23.89s/it]"
          ]
        },
        {
          "output_type": "stream",
          "name": "stdout",
          "text": [
            "Epoch 09/20 || Loss:  Train 0.4061 | Validation 0.4224\n"
          ]
        },
        {
          "output_type": "stream",
          "name": "stderr",
          "text": [
            "\r 50%|█████     | 10/20 [03:58<03:58, 23.89s/it]"
          ]
        },
        {
          "output_type": "stream",
          "name": "stdout",
          "text": [
            "Epoch 10/20 || Loss:  Train 0.4010 | Validation 0.4184\n"
          ]
        },
        {
          "output_type": "stream",
          "name": "stderr",
          "text": [
            "\r 55%|█████▌    | 11/20 [04:22<03:35, 23.90s/it]"
          ]
        },
        {
          "output_type": "stream",
          "name": "stdout",
          "text": [
            "Epoch 11/20 || Loss:  Train 0.4118 | Validation 0.4298\n"
          ]
        },
        {
          "output_type": "stream",
          "name": "stderr",
          "text": [
            "\r 60%|██████    | 12/20 [04:46<03:11, 23.89s/it]"
          ]
        },
        {
          "output_type": "stream",
          "name": "stdout",
          "text": [
            "Epoch 12/20 || Loss:  Train 0.4082 | Validation 0.4270\n"
          ]
        },
        {
          "output_type": "stream",
          "name": "stderr",
          "text": [
            "\r 65%|██████▌   | 13/20 [05:10<02:47, 23.90s/it]"
          ]
        },
        {
          "output_type": "stream",
          "name": "stdout",
          "text": [
            "Epoch 13/20 || Loss:  Train 0.3986 | Validation 0.4167\n"
          ]
        },
        {
          "output_type": "stream",
          "name": "stderr",
          "text": [
            "\r 70%|███████   | 14/20 [05:34<02:23, 23.90s/it]"
          ]
        },
        {
          "output_type": "stream",
          "name": "stdout",
          "text": [
            "Epoch 14/20 || Loss:  Train 0.4005 | Validation 0.4175\n"
          ]
        },
        {
          "output_type": "stream",
          "name": "stderr",
          "text": [
            "\r 75%|███████▌  | 15/20 [05:58<01:59, 23.90s/it]"
          ]
        },
        {
          "output_type": "stream",
          "name": "stdout",
          "text": [
            "Epoch 15/20 || Loss:  Train 0.3970 | Validation 0.4167\n"
          ]
        },
        {
          "output_type": "stream",
          "name": "stderr",
          "text": [
            "\r 80%|████████  | 16/20 [06:22<01:35, 23.89s/it]"
          ]
        },
        {
          "output_type": "stream",
          "name": "stdout",
          "text": [
            "Epoch 16/20 || Loss:  Train 0.3996 | Validation 0.4194\n"
          ]
        },
        {
          "output_type": "stream",
          "name": "stderr",
          "text": [
            "\r 85%|████████▌ | 17/20 [06:45<01:11, 23.90s/it]"
          ]
        },
        {
          "output_type": "stream",
          "name": "stdout",
          "text": [
            "Epoch 17/20 || Loss:  Train 0.3991 | Validation 0.4200\n"
          ]
        },
        {
          "output_type": "stream",
          "name": "stderr",
          "text": [
            "\r 90%|█████████ | 18/20 [07:09<00:47, 23.89s/it]"
          ]
        },
        {
          "output_type": "stream",
          "name": "stdout",
          "text": [
            "Epoch 18/20 || Loss:  Train 0.3963 | Validation 0.4155\n"
          ]
        },
        {
          "output_type": "stream",
          "name": "stderr",
          "text": [
            "\r 95%|█████████▌| 19/20 [07:33<00:23, 23.89s/it]"
          ]
        },
        {
          "output_type": "stream",
          "name": "stdout",
          "text": [
            "Epoch 19/20 || Loss:  Train 0.3959 | Validation 0.4165\n"
          ]
        },
        {
          "output_type": "stream",
          "name": "stderr",
          "text": [
            "100%|██████████| 20/20 [07:57<00:00, 23.88s/it]"
          ]
        },
        {
          "output_type": "stream",
          "name": "stdout",
          "text": [
            "Epoch 20/20 || Loss:  Train 0.3963 | Validation 0.4158\n"
          ]
        },
        {
          "output_type": "stream",
          "name": "stderr",
          "text": [
            "\n"
          ]
        }
      ]
    },
    {
      "cell_type": "code",
      "metadata": {
        "colab": {
          "base_uri": "https://localhost:8080/",
          "height": 413
        },
        "id": "gPWolWg_BPZl",
        "outputId": "ac07c8a7-2526-45f6-c3ca-aa8dafd3b0c3"
      },
      "source": [
        "plt.figure(figsize=(16,6))\n",
        "\n",
        "plt.subplot(1, 2, 1)\n",
        "plt.title('Loss history', fontsize=18)\n",
        "plt.plot(train_loss_list[1:], label='Train')\n",
        "plt.plot(val_loss_list[1:], label='Validation')\n",
        "plt.xlabel('# of epoch', fontsize=16)\n",
        "plt.ylabel('Loss', fontsize=16)\n",
        "plt.legend(fontsize=16)\n",
        "plt.minorticks_on()\n",
        "plt.grid()\n",
        "\n",
        "plt.subplot(1, 2, 2)\n",
        "plt.title('ROC_AUC history', fontsize=18)\n",
        "plt.plot(train_acc_list, label='Train')\n",
        "plt.plot(val_acc_list, label='Validation')\n",
        "plt.xlabel('# of epoch', fontsize=16)\n",
        "plt.ylabel('ROC_AUC', fontsize=16)\n",
        "plt.legend(fontsize=16)\n",
        "plt.minorticks_on()\n",
        "plt.grid()"
      ],
      "execution_count": null,
      "outputs": [
        {
          "output_type": "display_data",
          "data": {
            "image/png": "[encoded data removed]",
            "text/plain": [
              "<Figure size 1152x432 with 2 Axes>"
            ]
          },
          "metadata": {
            "needs_background": "light"
          }
        }
      ]
    },
    {
      "cell_type": "markdown",
      "metadata": {
        "id": "4SGPBXY3n012"
      },
      "source": [
        "### Make balanced Dataset"
      ]
    },
    {
      "cell_type": "code",
      "metadata": {
        "id": "BQAEvFo8I-XL"
      },
      "source": [
        "#Sampler Class for imbalanced datasets\n",
        "from typing import Callable\n",
        "\n",
        "import pandas as pd\n",
        "import torch\n",
        "import torch.utils.data\n",
        "import torchvision\n",
        "\n",
        "\n",
        "class ImbalancedDatasetSampler(torch.utils.data.sampler.Sampler):\n",
        "    \"\"\"Samples elements randomly from a given list of indices for imbalanced dataset\n",
        "    Arguments:\n",
        "        indices: a list of indices\n",
        "        num_samples: number of samples to draw\n",
        "        callback_get_label: a callback-like function which takes two arguments - dataset and index\n",
        "    \"\"\"\n",
        "\n",
        "    def __init__(self, dataset, indices: list = None, num_samples: int = None, callback_get_label: Callable = None):\n",
        "        # if indices is not provided, all elements in the dataset will be considered\n",
        "        self.indices = list(range(len(dataset))) if indices is None else indices\n",
        "\n",
        "        # define custom callback\n",
        "        self.callback_get_label = callback_get_label\n",
        "\n",
        "        # if num_samples is not provided, draw `len(indices)` samples in each iteration\n",
        "        self.num_samples = len(self.indices) if num_samples is None else num_samples\n",
        "\n",
        "        # distribution of classes in the dataset\n",
        "        df = pd.DataFrame()\n",
        "        df[\"label\"] = self._get_labels(dataset)\n",
        "        df.index = self.indices\n",
        "        df = df.sort_index()\n",
        "\n",
        "        label_to_count = df[\"label\"].value_counts()\n",
        "\n",
        "        weights = 1.0 / label_to_count[df[\"label\"]]\n",
        "\n",
        "        self.weights = torch.DoubleTensor(weights.to_list())\n",
        "\n",
        "    def _get_labels(self, dataset):\n",
        "        if self.callback_get_label:\n",
        "            return self.callback_get_label(dataset)\n",
        "        elif isinstance(dataset, torchvision.datasets.MNIST):\n",
        "            return dataset.train_labels.tolist()\n",
        "        elif isinstance(dataset, torchvision.datasets.ImageFolder):\n",
        "            return [x[1] for x in dataset.imgs]\n",
        "        elif isinstance(dataset, torchvision.datasets.DatasetFolder):\n",
        "            return dataset.samples[:][1]\n",
        "        elif isinstance(dataset, torch.utils.data.Subset):\n",
        "            return dataset.dataset.imgs[:][1]\n",
        "        elif isinstance(dataset, torch.utils.data.Dataset):\n",
        "            return dataset.get_labels()\n",
        "        else:\n",
        "            raise NotImplementedError\n",
        "\n",
        "    def __iter__(self):\n",
        "        return (self.indices[i] for i in torch.multinomial(self.weights, self.num_samples, replacement=True))\n",
        "\n",
        "    def __len__(self):\n",
        "        return self.num_samples"
      ],
      "execution_count": null,
      "outputs": []
    },
    {
      "cell_type": "code",
      "metadata": {
        "id": "PLC4iwQnF0el"
      },
      "source": [
        "train_sampler = ImbalancedDatasetSampler(train_dataset)\n",
        "val_sampler = ImbalancedDatasetSampler(test_dataset)"
      ],
      "execution_count": null,
      "outputs": []
    },
    {
      "cell_type": "code",
      "metadata": {
        "id": "BGuzCDXZ8_4_"
      },
      "source": [
        "train_loader = torch.utils.data.DataLoader(train_dataset, batch_size=45, shuffle=False, sampler=train_sampler) \n",
        "val_loader = torch.utils.data.DataLoader(test_dataset, batch_size=28, shuffle=False, sampler = val_sampler) "
      ],
      "execution_count": null,
      "outputs": []
    },
    {
      "cell_type": "code",
      "metadata": {
        "id": "PIW-sV2tMR0h"
      },
      "source": [
        "#train model with accuracy metric and imbalandes sampler for dataloader\n",
        "model = MriNet(c).to(device)\n",
        "\n",
        "criterion = nn.NLLLoss().to(device)\n",
        "optimizer = torch.optim.Adam(model.parameters(), lr=3e-4)\n",
        "scheduler = torch.optim.lr_scheduler.MultiStepLR(optimizer, milestones=[5, 15], gamma=0.1)"
      ],
      "execution_count": null,
      "outputs": []
    },
    {
      "cell_type": "code",
      "metadata": {
        "colab": {
          "base_uri": "https://localhost:8080/"
        },
        "id": "viOTGlkWMR0i",
        "outputId": "c45c4913-dc75-4450-a825-c8430dba3bca"
      },
      "source": [
        "# training will take ~3 min\n",
        "torch.manual_seed(1)\n",
        "np.random.seed(1)\n",
        "EPOCHS = 20\n",
        "\n",
        "train_loss_list, val_loss_list, train_acc_list, val_acc_list = train(EPOCHS, model, criterion, optimizer, train_loader, val_loader, scheduler=scheduler, save=False) "
      ],
      "execution_count": null,
      "outputs": [
        {
          "output_type": "stream",
          "name": "stdout",
          "text": [
            "Epoch 00/20 || Loss:  Train 20.6944 | Validation 16.4504\n"
          ]
        },
        {
          "output_type": "stream",
          "name": "stderr",
          "text": [
            "  5%|▌         | 1/20 [00:23<07:31, 23.76s/it]"
          ]
        },
        {
          "output_type": "stream",
          "name": "stdout",
          "text": [
            "Epoch 01/20 || Loss:  Train 2.8043 | Validation 2.3432\n"
          ]
        },
        {
          "output_type": "stream",
          "name": "stderr",
          "text": [
            "\r 10%|█         | 2/20 [00:47<07:09, 23.84s/it]"
          ]
        },
        {
          "output_type": "stream",
          "name": "stdout",
          "text": [
            "Epoch 02/20 || Loss:  Train 1.1202 | Validation 1.2562\n"
          ]
        },
        {
          "output_type": "stream",
          "name": "stderr",
          "text": [
            "\r 15%|█▌        | 3/20 [01:11<06:45, 23.88s/it]"
          ]
        },
        {
          "output_type": "stream",
          "name": "stdout",
          "text": [
            "Epoch 03/20 || Loss:  Train 0.7451 | Validation 0.7710\n"
          ]
        },
        {
          "output_type": "stream",
          "name": "stderr",
          "text": [
            "\r 20%|██        | 4/20 [01:35<06:22, 23.90s/it]"
          ]
        },
        {
          "output_type": "stream",
          "name": "stdout",
          "text": [
            "Epoch 04/20 || Loss:  Train 0.8672 | Validation 0.8522\n"
          ]
        },
        {
          "output_type": "stream",
          "name": "stderr",
          "text": [
            "\r 25%|██▌       | 5/20 [01:59<05:58, 23.93s/it]"
          ]
        },
        {
          "output_type": "stream",
          "name": "stdout",
          "text": [
            "Epoch 05/20 || Loss:  Train 0.8992 | Validation 0.9299\n"
          ]
        },
        {
          "output_type": "stream",
          "name": "stderr",
          "text": [
            "\r 30%|███       | 6/20 [02:23<05:35, 23.95s/it]"
          ]
        },
        {
          "output_type": "stream",
          "name": "stdout",
          "text": [
            "Epoch 06/20 || Loss:  Train 0.6652 | Validation 0.6737\n"
          ]
        },
        {
          "output_type": "stream",
          "name": "stderr",
          "text": [
            "\r 35%|███▌      | 7/20 [02:47<05:11, 23.95s/it]"
          ]
        },
        {
          "output_type": "stream",
          "name": "stdout",
          "text": [
            "Epoch 07/20 || Loss:  Train 0.6655 | Validation 0.7130\n"
          ]
        },
        {
          "output_type": "stream",
          "name": "stderr",
          "text": [
            "\r 40%|████      | 8/20 [03:11<04:47, 23.95s/it]"
          ]
        },
        {
          "output_type": "stream",
          "name": "stdout",
          "text": [
            "Epoch 08/20 || Loss:  Train 0.6572 | Validation 0.6884\n"
          ]
        },
        {
          "output_type": "stream",
          "name": "stderr",
          "text": [
            "\r 45%|████▌     | 9/20 [03:35<04:23, 23.96s/it]"
          ]
        },
        {
          "output_type": "stream",
          "name": "stdout",
          "text": [
            "Epoch 09/20 || Loss:  Train 0.6618 | Validation 0.6867\n"
          ]
        },
        {
          "output_type": "stream",
          "name": "stderr",
          "text": [
            "\r 50%|█████     | 10/20 [03:59<03:59, 23.96s/it]"
          ]
        },
        {
          "output_type": "stream",
          "name": "stdout",
          "text": [
            "Epoch 10/20 || Loss:  Train 0.6664 | Validation 0.6906\n"
          ]
        },
        {
          "output_type": "stream",
          "name": "stderr",
          "text": [
            "\r 55%|█████▌    | 11/20 [04:23<03:35, 23.95s/it]"
          ]
        },
        {
          "output_type": "stream",
          "name": "stdout",
          "text": [
            "Epoch 11/20 || Loss:  Train 0.6753 | Validation 0.6846\n"
          ]
        },
        {
          "output_type": "stream",
          "name": "stderr",
          "text": [
            "\r 60%|██████    | 12/20 [04:47<03:11, 23.96s/it]"
          ]
        },
        {
          "output_type": "stream",
          "name": "stdout",
          "text": [
            "Epoch 12/20 || Loss:  Train 0.6851 | Validation 0.6881\n"
          ]
        },
        {
          "output_type": "stream",
          "name": "stderr",
          "text": [
            "\r 65%|██████▌   | 13/20 [05:11<02:47, 23.97s/it]"
          ]
        },
        {
          "output_type": "stream",
          "name": "stdout",
          "text": [
            "Epoch 13/20 || Loss:  Train 0.6602 | Validation 0.6668\n"
          ]
        },
        {
          "output_type": "stream",
          "name": "stderr",
          "text": [
            "\r 70%|███████   | 14/20 [05:35<02:23, 23.97s/it]"
          ]
        },
        {
          "output_type": "stream",
          "name": "stdout",
          "text": [
            "Epoch 14/20 || Loss:  Train 0.6652 | Validation 0.6752\n"
          ]
        },
        {
          "output_type": "stream",
          "name": "stderr",
          "text": [
            "\r 75%|███████▌  | 15/20 [05:59<01:59, 23.97s/it]"
          ]
        },
        {
          "output_type": "stream",
          "name": "stdout",
          "text": [
            "Epoch 15/20 || Loss:  Train 0.6767 | Validation 0.6826\n"
          ]
        },
        {
          "output_type": "stream",
          "name": "stderr",
          "text": [
            "\r 80%|████████  | 16/20 [06:23<01:35, 23.97s/it]"
          ]
        },
        {
          "output_type": "stream",
          "name": "stdout",
          "text": [
            "Epoch 16/20 || Loss:  Train 0.6596 | Validation 0.6853\n"
          ]
        },
        {
          "output_type": "stream",
          "name": "stderr",
          "text": [
            "\r 85%|████████▌ | 17/20 [06:47<01:11, 23.97s/it]"
          ]
        },
        {
          "output_type": "stream",
          "name": "stdout",
          "text": [
            "Epoch 17/20 || Loss:  Train 0.6603 | Validation 0.6744\n"
          ]
        },
        {
          "output_type": "stream",
          "name": "stderr",
          "text": [
            "\r 90%|█████████ | 18/20 [07:11<00:47, 23.97s/it]"
          ]
        },
        {
          "output_type": "stream",
          "name": "stdout",
          "text": [
            "Epoch 18/20 || Loss:  Train 0.6584 | Validation 0.6951\n"
          ]
        },
        {
          "output_type": "stream",
          "name": "stderr",
          "text": [
            "\r 95%|█████████▌| 19/20 [07:35<00:23, 23.96s/it]"
          ]
        },
        {
          "output_type": "stream",
          "name": "stdout",
          "text": [
            "Epoch 19/20 || Loss:  Train 0.6543 | Validation 0.6829\n"
          ]
        },
        {
          "output_type": "stream",
          "name": "stderr",
          "text": [
            "100%|██████████| 20/20 [07:58<00:00, 23.95s/it]"
          ]
        },
        {
          "output_type": "stream",
          "name": "stdout",
          "text": [
            "Epoch 20/20 || Loss:  Train 0.6471 | Validation 0.6824\n"
          ]
        },
        {
          "output_type": "stream",
          "name": "stderr",
          "text": [
            "\n"
          ]
        }
      ]
    },
    {
      "cell_type": "code",
      "metadata": {
        "colab": {
          "base_uri": "https://localhost:8080/",
          "height": 413
        },
        "id": "BJYJ0GC8MR0i",
        "outputId": "5edf6eb9-9f01-402b-834b-c7e7c64f16cb"
      },
      "source": [
        "plt.figure(figsize=(16,6))\n",
        "\n",
        "plt.subplot(1, 2, 1)\n",
        "plt.title('Loss history', fontsize=18)\n",
        "plt.plot(train_loss_list[1:], label='Train')\n",
        "plt.plot(val_loss_list[1:], label='Validation')\n",
        "plt.xlabel('# of epoch', fontsize=16)\n",
        "plt.ylabel('Loss', fontsize=16)\n",
        "plt.legend(fontsize=16)\n",
        "plt.minorticks_on()\n",
        "plt.grid()\n",
        "\n",
        "plt.subplot(1, 2, 2)\n",
        "plt.title('Accuracy history', fontsize=18)\n",
        "plt.plot(train_acc_list, label='Train')\n",
        "plt.plot(val_acc_list, label='Validation')\n",
        "plt.xlabel('# of epoch', fontsize=16)\n",
        "plt.ylabel('Accuracy', fontsize=16)\n",
        "plt.legend(fontsize=16)\n",
        "plt.minorticks_on()\n",
        "plt.grid()"
      ],
      "execution_count": null,
      "outputs": [
        {
          "output_type": "display_data",
          "data": {
            "image/png": "[encoded data removed]",
            "text/plain": [
              "<Figure size 1152x432 with 2 Axes>"
            ]
          },
          "metadata": {
            "needs_background": "light"
          }
        }
      ]
    },
    {
      "cell_type": "code",
      "metadata": {
        "id": "6icAQbPVRmkU"
      },
      "source": [
        "#train model with roc_auc metric and imbalandes sampler for dataloader\n",
        "model = MriNet(c).to(device)\n",
        "\n",
        "criterion = nn.NLLLoss().to(device)\n",
        "optimizer = torch.optim.Adam(model.parameters(), lr=3e-4)\n",
        "scheduler = torch.optim.lr_scheduler.MultiStepLR(optimizer, milestones=[5, 15], gamma=0.1)"
      ],
      "execution_count": null,
      "outputs": []
    },
    {
      "cell_type": "code",
      "metadata": {
        "colab": {
          "base_uri": "https://localhost:8080/"
        },
        "id": "Gasp3fCPRmkU",
        "outputId": "de67f806-4074-4cb0-e850-fe90fd145618"
      },
      "source": [
        "# training will take ~3 min\n",
        "torch.manual_seed(1)\n",
        "np.random.seed(1)\n",
        "EPOCHS = 20\n",
        "\n",
        "train_loss_list, val_loss_list, train_acc_list, val_acc_list = train_roc_auc(EPOCHS, model, criterion, optimizer, train_loader, val_loader, scheduler=scheduler, save=False) "
      ],
      "execution_count": null,
      "outputs": [
        {
          "output_type": "stream",
          "name": "stdout",
          "text": [
            "Epoch 00/20 || Loss:  Train 61.3056 | Validation 49.5618\n"
          ]
        },
        {
          "output_type": "stream",
          "name": "stderr",
          "text": [
            "  5%|▌         | 1/20 [00:23<07:28, 23.60s/it]"
          ]
        },
        {
          "output_type": "stream",
          "name": "stdout",
          "text": [
            "Epoch 01/20 || Loss:  Train 0.7553 | Validation 0.7539\n"
          ]
        },
        {
          "output_type": "stream",
          "name": "stderr",
          "text": [
            "\r 10%|█         | 2/20 [00:47<07:05, 23.66s/it]"
          ]
        },
        {
          "output_type": "stream",
          "name": "stdout",
          "text": [
            "Epoch 02/20 || Loss:  Train 1.4191 | Validation 1.6911\n"
          ]
        },
        {
          "output_type": "stream",
          "name": "stderr",
          "text": [
            "\r 15%|█▌        | 3/20 [01:11<06:43, 23.73s/it]"
          ]
        },
        {
          "output_type": "stream",
          "name": "stdout",
          "text": [
            "Epoch 03/20 || Loss:  Train 0.7976 | Validation 0.7844\n"
          ]
        },
        {
          "output_type": "stream",
          "name": "stderr",
          "text": [
            "\r 20%|██        | 4/20 [01:34<06:20, 23.76s/it]"
          ]
        },
        {
          "output_type": "stream",
          "name": "stdout",
          "text": [
            "Epoch 04/20 || Loss:  Train 0.7153 | Validation 0.7317\n"
          ]
        },
        {
          "output_type": "stream",
          "name": "stderr",
          "text": [
            "\r 25%|██▌       | 5/20 [01:58<05:57, 23.80s/it]"
          ]
        },
        {
          "output_type": "stream",
          "name": "stdout",
          "text": [
            "Epoch 05/20 || Loss:  Train 0.6599 | Validation 0.6945\n"
          ]
        },
        {
          "output_type": "stream",
          "name": "stderr",
          "text": [
            "\r 30%|███       | 6/20 [02:22<05:33, 23.84s/it]"
          ]
        },
        {
          "output_type": "stream",
          "name": "stdout",
          "text": [
            "Epoch 06/20 || Loss:  Train 0.6280 | Validation 0.6843\n"
          ]
        },
        {
          "output_type": "stream",
          "name": "stderr",
          "text": [
            "\r 35%|███▌      | 7/20 [02:46<05:10, 23.86s/it]"
          ]
        },
        {
          "output_type": "stream",
          "name": "stdout",
          "text": [
            "Epoch 07/20 || Loss:  Train 0.6371 | Validation 0.6916\n"
          ]
        },
        {
          "output_type": "stream",
          "name": "stderr",
          "text": [
            "\r 40%|████      | 8/20 [03:10<04:46, 23.87s/it]"
          ]
        },
        {
          "output_type": "stream",
          "name": "stdout",
          "text": [
            "Epoch 08/20 || Loss:  Train 0.6231 | Validation 0.6751\n"
          ]
        },
        {
          "output_type": "stream",
          "name": "stderr",
          "text": [
            "\r 45%|████▌     | 9/20 [03:34<04:22, 23.89s/it]"
          ]
        },
        {
          "output_type": "stream",
          "name": "stdout",
          "text": [
            "Epoch 09/20 || Loss:  Train 0.6315 | Validation 0.6866\n"
          ]
        },
        {
          "output_type": "stream",
          "name": "stderr",
          "text": [
            "\r 50%|█████     | 10/20 [03:58<03:59, 23.90s/it]"
          ]
        },
        {
          "output_type": "stream",
          "name": "stdout",
          "text": [
            "Epoch 10/20 || Loss:  Train 0.6287 | Validation 0.7003\n"
          ]
        },
        {
          "output_type": "stream",
          "name": "stderr",
          "text": [
            "\r 55%|█████▌    | 11/20 [04:22<03:35, 23.91s/it]"
          ]
        },
        {
          "output_type": "stream",
          "name": "stdout",
          "text": [
            "Epoch 11/20 || Loss:  Train 0.6227 | Validation 0.6757\n"
          ]
        },
        {
          "output_type": "stream",
          "name": "stderr",
          "text": [
            "\r 60%|██████    | 12/20 [04:46<03:11, 23.91s/it]"
          ]
        },
        {
          "output_type": "stream",
          "name": "stdout",
          "text": [
            "Epoch 12/20 || Loss:  Train 0.6251 | Validation 0.6601\n"
          ]
        },
        {
          "output_type": "stream",
          "name": "stderr",
          "text": [
            "\r 65%|██████▌   | 13/20 [05:10<02:47, 23.90s/it]"
          ]
        },
        {
          "output_type": "stream",
          "name": "stdout",
          "text": [
            "Epoch 13/20 || Loss:  Train 0.6037 | Validation 0.6489\n"
          ]
        },
        {
          "output_type": "stream",
          "name": "stderr",
          "text": [
            "\r 70%|███████   | 14/20 [05:34<02:23, 23.91s/it]"
          ]
        },
        {
          "output_type": "stream",
          "name": "stdout",
          "text": [
            "Epoch 14/20 || Loss:  Train 0.6055 | Validation 0.6732\n"
          ]
        },
        {
          "output_type": "stream",
          "name": "stderr",
          "text": [
            "\r 75%|███████▌  | 15/20 [05:57<01:59, 23.92s/it]"
          ]
        },
        {
          "output_type": "stream",
          "name": "stdout",
          "text": [
            "Epoch 15/20 || Loss:  Train 0.5926 | Validation 0.6644\n"
          ]
        },
        {
          "output_type": "stream",
          "name": "stderr",
          "text": [
            "\r 80%|████████  | 16/20 [06:21<01:35, 23.92s/it]"
          ]
        },
        {
          "output_type": "stream",
          "name": "stdout",
          "text": [
            "Epoch 16/20 || Loss:  Train 0.6105 | Validation 0.6886\n"
          ]
        },
        {
          "output_type": "stream",
          "name": "stderr",
          "text": [
            "\r 85%|████████▌ | 17/20 [06:45<01:11, 23.92s/it]"
          ]
        },
        {
          "output_type": "stream",
          "name": "stdout",
          "text": [
            "Epoch 17/20 || Loss:  Train 0.6004 | Validation 0.6469\n"
          ]
        },
        {
          "output_type": "stream",
          "name": "stderr",
          "text": [
            "\r 90%|█████████ | 18/20 [07:09<00:47, 23.92s/it]"
          ]
        },
        {
          "output_type": "stream",
          "name": "stdout",
          "text": [
            "Epoch 18/20 || Loss:  Train 0.6063 | Validation 0.7007\n"
          ]
        },
        {
          "output_type": "stream",
          "name": "stderr",
          "text": [
            "\r 95%|█████████▌| 19/20 [07:33<00:23, 23.91s/it]"
          ]
        },
        {
          "output_type": "stream",
          "name": "stdout",
          "text": [
            "Epoch 19/20 || Loss:  Train 0.5960 | Validation 0.6676\n"
          ]
        },
        {
          "output_type": "stream",
          "name": "stderr",
          "text": [
            "100%|██████████| 20/20 [07:57<00:00, 23.88s/it]"
          ]
        },
        {
          "output_type": "stream",
          "name": "stdout",
          "text": [
            "Epoch 20/20 || Loss:  Train 0.5883 | Validation 0.7178\n"
          ]
        },
        {
          "output_type": "stream",
          "name": "stderr",
          "text": [
            "\n"
          ]
        }
      ]
    },
    {
      "cell_type": "code",
      "metadata": {
        "colab": {
          "base_uri": "https://localhost:8080/",
          "height": 413
        },
        "id": "xp8dV3LvRmkU",
        "outputId": "06b5b161-fa8a-4a23-ba32-637b3c7d10b6"
      },
      "source": [
        "plt.figure(figsize=(16,6))\n",
        "\n",
        "plt.subplot(1, 2, 1)\n",
        "plt.title('Loss history', fontsize=18)\n",
        "plt.plot(train_loss_list[1:], label='Train')\n",
        "plt.plot(val_loss_list[1:], label='Validation')\n",
        "plt.xlabel('# of epoch', fontsize=16)\n",
        "plt.ylabel('Loss', fontsize=16)\n",
        "plt.legend(fontsize=16)\n",
        "plt.minorticks_on()\n",
        "plt.grid()\n",
        "\n",
        "plt.subplot(1, 2, 2)\n",
        "plt.title('ROC_AUC history', fontsize=18)\n",
        "plt.plot(train_acc_list, label='Train')\n",
        "plt.plot(val_acc_list, label='Validation')\n",
        "plt.xlabel('# of epoch', fontsize=16)\n",
        "plt.ylabel('ROC_AUC', fontsize=16)\n",
        "plt.legend(fontsize=16)\n",
        "plt.minorticks_on()\n",
        "plt.grid()"
      ],
      "execution_count": null,
      "outputs": [
        {
          "output_type": "display_data",
          "data": {
            "image/png": "[encoded data removed]",
            "text/plain": [
              "<Figure size 1152x432 with 2 Axes>"
            ]
          },
          "metadata": {
            "needs_background": "light"
          }
        }
      ]
    },
    {
      "cell_type": "markdown",
      "metadata": {
        "id": "oPG7liZgmCzW"
      },
      "source": [
        "### Train predtrained model on 1-st Datset"
      ]
    },
    {
      "cell_type": "code",
      "metadata": {
        "id": "4C8t04OQlX0w"
      },
      "source": [
        "#Predtrained model on 1st Dataset with accuracy metric and sampler for imbalanced Dataset\n",
        "model = torch.load('/content/drive/MyDrive/Учеба/Diplom/model_classification_weights')\n",
        "\n",
        "criterion = nn.NLLLoss().to(device)\n",
        "optimizer = torch.optim.Adam(model.parameters(), lr=3e-4)\n",
        "scheduler = torch.optim.lr_scheduler.MultiStepLR(optimizer, milestones=[5, 15], gamma=0.1)"
      ],
      "execution_count": null,
      "outputs": []
    },
    {
      "cell_type": "code",
      "metadata": {
        "colab": {
          "base_uri": "https://localhost:8080/"
        },
        "id": "nXmfYjYrlX0w",
        "outputId": "d01cd178-7951-4502-d542-8962a57d30ad"
      },
      "source": [
        "# training will take ~3 min\n",
        "torch.manual_seed(1)\n",
        "np.random.seed(1)\n",
        "EPOCHS = 20\n",
        "\n",
        "train_loss_list, val_loss_list, train_acc_list, val_acc_list = train(EPOCHS, model, criterion, optimizer, train_loader, val_loader, scheduler=scheduler, save=False) "
      ],
      "execution_count": null,
      "outputs": [
        {
          "output_type": "stream",
          "name": "stdout",
          "text": [
            "Epoch 00/20 || Loss:  Train 1.3345 | Validation 1.1891\n"
          ]
        },
        {
          "output_type": "stream",
          "name": "stderr",
          "text": [
            "  5%|▌         | 1/20 [00:23<07:34, 23.93s/it]"
          ]
        },
        {
          "output_type": "stream",
          "name": "stdout",
          "text": [
            "Epoch 01/20 || Loss:  Train 1.4143 | Validation 1.2751\n"
          ]
        },
        {
          "output_type": "stream",
          "name": "stderr",
          "text": [
            "\r 10%|█         | 2/20 [00:47<07:10, 23.92s/it]"
          ]
        },
        {
          "output_type": "stream",
          "name": "stdout",
          "text": [
            "Epoch 02/20 || Loss:  Train 0.8893 | Validation 1.0063\n"
          ]
        },
        {
          "output_type": "stream",
          "name": "stderr",
          "text": [
            "\r 15%|█▌        | 3/20 [01:11<06:46, 23.92s/it]"
          ]
        },
        {
          "output_type": "stream",
          "name": "stdout",
          "text": [
            "Epoch 03/20 || Loss:  Train 0.7114 | Validation 0.7489\n"
          ]
        },
        {
          "output_type": "stream",
          "name": "stderr",
          "text": [
            "\r 20%|██        | 4/20 [01:35<06:22, 23.92s/it]"
          ]
        },
        {
          "output_type": "stream",
          "name": "stdout",
          "text": [
            "Epoch 04/20 || Loss:  Train 0.6743 | Validation 0.6761\n"
          ]
        },
        {
          "output_type": "stream",
          "name": "stderr",
          "text": [
            "\r 25%|██▌       | 5/20 [01:59<05:58, 23.92s/it]"
          ]
        },
        {
          "output_type": "stream",
          "name": "stdout",
          "text": [
            "Epoch 05/20 || Loss:  Train 0.8583 | Validation 0.9038\n"
          ]
        },
        {
          "output_type": "stream",
          "name": "stderr",
          "text": [
            "\r 30%|███       | 6/20 [02:23<05:34, 23.91s/it]"
          ]
        },
        {
          "output_type": "stream",
          "name": "stdout",
          "text": [
            "Epoch 06/20 || Loss:  Train 0.6738 | Validation 0.6645\n"
          ]
        },
        {
          "output_type": "stream",
          "name": "stderr",
          "text": [
            "\r 35%|███▌      | 7/20 [02:47<05:10, 23.91s/it]"
          ]
        },
        {
          "output_type": "stream",
          "name": "stdout",
          "text": [
            "Epoch 07/20 || Loss:  Train 0.6800 | Validation 0.7104\n"
          ]
        },
        {
          "output_type": "stream",
          "name": "stderr",
          "text": [
            "\r 40%|████      | 8/20 [03:11<04:46, 23.92s/it]"
          ]
        },
        {
          "output_type": "stream",
          "name": "stdout",
          "text": [
            "Epoch 08/20 || Loss:  Train 0.6620 | Validation 0.6820\n"
          ]
        },
        {
          "output_type": "stream",
          "name": "stderr",
          "text": [
            "\r 45%|████▌     | 9/20 [03:35<04:23, 23.92s/it]"
          ]
        },
        {
          "output_type": "stream",
          "name": "stdout",
          "text": [
            "Epoch 09/20 || Loss:  Train 0.6668 | Validation 0.6806\n"
          ]
        },
        {
          "output_type": "stream",
          "name": "stderr",
          "text": [
            "\r 50%|█████     | 10/20 [03:59<03:59, 23.92s/it]"
          ]
        },
        {
          "output_type": "stream",
          "name": "stdout",
          "text": [
            "Epoch 10/20 || Loss:  Train 0.6602 | Validation 0.6896\n"
          ]
        },
        {
          "output_type": "stream",
          "name": "stderr",
          "text": [
            "\r 55%|█████▌    | 11/20 [04:23<03:35, 23.92s/it]"
          ]
        },
        {
          "output_type": "stream",
          "name": "stdout",
          "text": [
            "Epoch 11/20 || Loss:  Train 0.6658 | Validation 0.6916\n"
          ]
        },
        {
          "output_type": "stream",
          "name": "stderr",
          "text": [
            "\r 60%|██████    | 12/20 [04:47<03:11, 23.92s/it]"
          ]
        },
        {
          "output_type": "stream",
          "name": "stdout",
          "text": [
            "Epoch 12/20 || Loss:  Train 0.6663 | Validation 0.6736\n"
          ]
        },
        {
          "output_type": "stream",
          "name": "stderr",
          "text": [
            "\r 65%|██████▌   | 13/20 [05:10<02:47, 23.92s/it]"
          ]
        },
        {
          "output_type": "stream",
          "name": "stdout",
          "text": [
            "Epoch 13/20 || Loss:  Train 0.6596 | Validation 0.6597\n"
          ]
        },
        {
          "output_type": "stream",
          "name": "stderr",
          "text": [
            "\r 70%|███████   | 14/20 [05:34<02:23, 23.91s/it]"
          ]
        },
        {
          "output_type": "stream",
          "name": "stdout",
          "text": [
            "Epoch 14/20 || Loss:  Train 0.6737 | Validation 0.6632\n"
          ]
        },
        {
          "output_type": "stream",
          "name": "stderr",
          "text": [
            "\r 75%|███████▌  | 15/20 [05:58<01:59, 23.92s/it]"
          ]
        },
        {
          "output_type": "stream",
          "name": "stdout",
          "text": [
            "Epoch 15/20 || Loss:  Train 0.6704 | Validation 0.6685\n"
          ]
        },
        {
          "output_type": "stream",
          "name": "stderr",
          "text": [
            "\r 80%|████████  | 16/20 [06:22<01:35, 23.92s/it]"
          ]
        },
        {
          "output_type": "stream",
          "name": "stdout",
          "text": [
            "Epoch 16/20 || Loss:  Train 0.6645 | Validation 0.6809\n"
          ]
        },
        {
          "output_type": "stream",
          "name": "stderr",
          "text": [
            "\r 85%|████████▌ | 17/20 [06:46<01:11, 23.93s/it]"
          ]
        },
        {
          "output_type": "stream",
          "name": "stdout",
          "text": [
            "Epoch 17/20 || Loss:  Train 0.6629 | Validation 0.6607\n"
          ]
        },
        {
          "output_type": "stream",
          "name": "stderr",
          "text": [
            "\r 90%|█████████ | 18/20 [07:10<00:47, 23.94s/it]"
          ]
        },
        {
          "output_type": "stream",
          "name": "stdout",
          "text": [
            "Epoch 18/20 || Loss:  Train 0.6610 | Validation 0.6945\n"
          ]
        },
        {
          "output_type": "stream",
          "name": "stderr",
          "text": [
            "\r 95%|█████████▌| 19/20 [07:34<00:23, 23.94s/it]"
          ]
        },
        {
          "output_type": "stream",
          "name": "stdout",
          "text": [
            "Epoch 19/20 || Loss:  Train 0.6587 | Validation 0.6635\n"
          ]
        },
        {
          "output_type": "stream",
          "name": "stderr",
          "text": [
            "100%|██████████| 20/20 [07:58<00:00, 23.93s/it]"
          ]
        },
        {
          "output_type": "stream",
          "name": "stdout",
          "text": [
            "Epoch 20/20 || Loss:  Train 0.6503 | Validation 0.6735\n"
          ]
        },
        {
          "output_type": "stream",
          "name": "stderr",
          "text": [
            "\n"
          ]
        }
      ]
    },
    {
      "cell_type": "code",
      "metadata": {
        "colab": {
          "base_uri": "https://localhost:8080/",
          "height": 413
        },
        "id": "JpROHTuPlX0w",
        "outputId": "e22a6768-2324-4f1c-88b1-4aeaae38139b"
      },
      "source": [
        "plt.figure(figsize=(16,6))\n",
        "\n",
        "plt.subplot(1, 2, 1)\n",
        "plt.title('Loss history', fontsize=18)\n",
        "plt.plot(train_loss_list[1:], label='Train')\n",
        "plt.plot(val_loss_list[1:], label='Validation')\n",
        "plt.xlabel('# of epoch', fontsize=16)\n",
        "plt.ylabel('Loss', fontsize=16)\n",
        "plt.legend(fontsize=16)\n",
        "plt.minorticks_on()\n",
        "plt.grid()\n",
        "\n",
        "plt.subplot(1, 2, 2)\n",
        "plt.title('Accurasy history', fontsize=18)\n",
        "plt.plot(train_acc_list, label='Train')\n",
        "plt.plot(val_acc_list, label='Validation')\n",
        "plt.xlabel('# of epoch', fontsize=16)\n",
        "plt.ylabel('Accurasy', fontsize=16)\n",
        "plt.legend(fontsize=16)\n",
        "plt.minorticks_on()\n",
        "plt.grid()"
      ],
      "execution_count": null,
      "outputs": [
        {
          "output_type": "display_data",
          "data": {
            "image/png": "[encoded data removed]",
            "text/plain": [
              "<Figure size 1152x432 with 2 Axes>"
            ]
          },
          "metadata": {
            "needs_background": "light"
          }
        }
      ]
    },
    {
      "cell_type": "code",
      "metadata": {
        "id": "nJySDdxA8_xP"
      },
      "source": [
        "#Predtrained model on 1st Dataset with roc_auc metric and sampler for imbalanced Dataset\n",
        "model = torch.load('/content/drive/MyDrive/Учеба/Diplom/model_classification_weights_roc_auc')\n",
        "\n",
        "criterion = nn.NLLLoss().to(device)\n",
        "optimizer = torch.optim.Adam(model.parameters(), lr=3e-4)\n",
        "scheduler = torch.optim.lr_scheduler.MultiStepLR(optimizer, milestones=[5, 15], gamma=0.1)"
      ],
      "execution_count": null,
      "outputs": []
    },
    {
      "cell_type": "code",
      "metadata": {
        "colab": {
          "base_uri": "https://localhost:8080/"
        },
        "id": "1sWFJlvLS4I_",
        "outputId": "ebe7fd69-55da-4eb1-f703-48c02c568f08"
      },
      "source": [
        "# training will take ~3 min\n",
        "torch.manual_seed(1)\n",
        "np.random.seed(1)\n",
        "EPOCHS = 20\n",
        "\n",
        "train_loss_list, val_loss_list, train_acc_list, val_acc_list = train_roc_auc(EPOCHS, model, criterion, optimizer, train_loader, val_loader, scheduler=scheduler, save=False) "
      ],
      "execution_count": null,
      "outputs": [
        {
          "output_type": "stream",
          "name": "stdout",
          "text": [
            "Epoch 00/20 || Loss:  Train 1.3385 | Validation 1.1928\n"
          ]
        },
        {
          "output_type": "stream",
          "name": "stderr",
          "text": [
            "  5%|▌         | 1/20 [00:23<07:34, 23.91s/it]"
          ]
        },
        {
          "output_type": "stream",
          "name": "stdout",
          "text": [
            "Epoch 01/20 || Loss:  Train 1.4502 | Validation 1.3043\n"
          ]
        },
        {
          "output_type": "stream",
          "name": "stderr",
          "text": [
            "\r 10%|█         | 2/20 [00:47<07:10, 23.92s/it]"
          ]
        },
        {
          "output_type": "stream",
          "name": "stdout",
          "text": [
            "Epoch 02/20 || Loss:  Train 0.8896 | Validation 1.0059\n"
          ]
        },
        {
          "output_type": "stream",
          "name": "stderr",
          "text": [
            "\r 15%|█▌        | 3/20 [01:11<06:46, 23.91s/it]"
          ]
        },
        {
          "output_type": "stream",
          "name": "stdout",
          "text": [
            "Epoch 03/20 || Loss:  Train 0.7166 | Validation 0.7368\n"
          ]
        },
        {
          "output_type": "stream",
          "name": "stderr",
          "text": [
            "\r 20%|██        | 4/20 [01:35<06:22, 23.91s/it]"
          ]
        },
        {
          "output_type": "stream",
          "name": "stdout",
          "text": [
            "Epoch 04/20 || Loss:  Train 0.6731 | Validation 0.6758\n"
          ]
        },
        {
          "output_type": "stream",
          "name": "stderr",
          "text": [
            "\r 25%|██▌       | 5/20 [01:59<05:58, 23.92s/it]"
          ]
        },
        {
          "output_type": "stream",
          "name": "stdout",
          "text": [
            "Epoch 05/20 || Loss:  Train 0.8469 | Validation 0.8915\n"
          ]
        },
        {
          "output_type": "stream",
          "name": "stderr",
          "text": [
            "\r 30%|███       | 6/20 [02:23<05:34, 23.91s/it]"
          ]
        },
        {
          "output_type": "stream",
          "name": "stdout",
          "text": [
            "Epoch 06/20 || Loss:  Train 0.6736 | Validation 0.6641\n"
          ]
        },
        {
          "output_type": "stream",
          "name": "stderr",
          "text": [
            "\r 35%|███▌      | 7/20 [02:47<05:10, 23.91s/it]"
          ]
        },
        {
          "output_type": "stream",
          "name": "stdout",
          "text": [
            "Epoch 07/20 || Loss:  Train 0.6792 | Validation 0.7098\n"
          ]
        },
        {
          "output_type": "stream",
          "name": "stderr",
          "text": [
            "\r 40%|████      | 8/20 [03:11<04:46, 23.91s/it]"
          ]
        },
        {
          "output_type": "stream",
          "name": "stdout",
          "text": [
            "Epoch 08/20 || Loss:  Train 0.6615 | Validation 0.6821\n"
          ]
        },
        {
          "output_type": "stream",
          "name": "stderr",
          "text": [
            "\r 45%|████▌     | 9/20 [03:35<04:23, 23.91s/it]"
          ]
        },
        {
          "output_type": "stream",
          "name": "stdout",
          "text": [
            "Epoch 09/20 || Loss:  Train 0.6665 | Validation 0.6811\n"
          ]
        },
        {
          "output_type": "stream",
          "name": "stderr",
          "text": [
            "\r 50%|█████     | 10/20 [03:59<03:59, 23.92s/it]"
          ]
        },
        {
          "output_type": "stream",
          "name": "stdout",
          "text": [
            "Epoch 10/20 || Loss:  Train 0.6599 | Validation 0.6890\n"
          ]
        },
        {
          "output_type": "stream",
          "name": "stderr",
          "text": [
            "\r 55%|█████▌    | 11/20 [04:23<03:35, 23.91s/it]"
          ]
        },
        {
          "output_type": "stream",
          "name": "stdout",
          "text": [
            "Epoch 11/20 || Loss:  Train 0.6648 | Validation 0.6908\n"
          ]
        },
        {
          "output_type": "stream",
          "name": "stderr",
          "text": [
            "\r 60%|██████    | 12/20 [04:46<03:11, 23.90s/it]"
          ]
        },
        {
          "output_type": "stream",
          "name": "stdout",
          "text": [
            "Epoch 12/20 || Loss:  Train 0.6651 | Validation 0.6731\n"
          ]
        },
        {
          "output_type": "stream",
          "name": "stderr",
          "text": [
            "\r 65%|██████▌   | 13/20 [05:10<02:47, 23.91s/it]"
          ]
        },
        {
          "output_type": "stream",
          "name": "stdout",
          "text": [
            "Epoch 13/20 || Loss:  Train 0.6577 | Validation 0.6590\n"
          ]
        },
        {
          "output_type": "stream",
          "name": "stderr",
          "text": [
            "\r 70%|███████   | 14/20 [05:34<02:23, 23.91s/it]"
          ]
        },
        {
          "output_type": "stream",
          "name": "stdout",
          "text": [
            "Epoch 14/20 || Loss:  Train 0.6721 | Validation 0.6634\n"
          ]
        },
        {
          "output_type": "stream",
          "name": "stderr",
          "text": [
            "\r 75%|███████▌  | 15/20 [05:58<01:59, 23.90s/it]"
          ]
        },
        {
          "output_type": "stream",
          "name": "stdout",
          "text": [
            "Epoch 15/20 || Loss:  Train 0.6734 | Validation 0.6706\n"
          ]
        },
        {
          "output_type": "stream",
          "name": "stderr",
          "text": [
            "\r 80%|████████  | 16/20 [06:22<01:35, 23.90s/it]"
          ]
        },
        {
          "output_type": "stream",
          "name": "stdout",
          "text": [
            "Epoch 16/20 || Loss:  Train 0.6632 | Validation 0.6800\n"
          ]
        },
        {
          "output_type": "stream",
          "name": "stderr",
          "text": [
            "\r 85%|████████▌ | 17/20 [06:46<01:11, 23.91s/it]"
          ]
        },
        {
          "output_type": "stream",
          "name": "stdout",
          "text": [
            "Epoch 17/20 || Loss:  Train 0.6622 | Validation 0.6599\n"
          ]
        },
        {
          "output_type": "stream",
          "name": "stderr",
          "text": [
            "\r 90%|█████████ | 18/20 [07:10<00:47, 23.91s/it]"
          ]
        },
        {
          "output_type": "stream",
          "name": "stdout",
          "text": [
            "Epoch 18/20 || Loss:  Train 0.6598 | Validation 0.6936\n"
          ]
        },
        {
          "output_type": "stream",
          "name": "stderr",
          "text": [
            "\r 95%|█████████▌| 19/20 [07:34<00:23, 23.91s/it]"
          ]
        },
        {
          "output_type": "stream",
          "name": "stdout",
          "text": [
            "Epoch 19/20 || Loss:  Train 0.6575 | Validation 0.6628\n"
          ]
        },
        {
          "output_type": "stream",
          "name": "stderr",
          "text": [
            "100%|██████████| 20/20 [07:58<00:00, 23.91s/it]"
          ]
        },
        {
          "output_type": "stream",
          "name": "stdout",
          "text": [
            "Epoch 20/20 || Loss:  Train 0.6491 | Validation 0.6719\n"
          ]
        },
        {
          "output_type": "stream",
          "name": "stderr",
          "text": [
            "\n"
          ]
        }
      ]
    },
    {
      "cell_type": "code",
      "metadata": {
        "colab": {
          "base_uri": "https://localhost:8080/",
          "height": 413
        },
        "id": "-ceDeA7pS4JA",
        "outputId": "2d4deb66-3a5e-4aca-c7a4-e51494ce54f8"
      },
      "source": [
        "plt.figure(figsize=(16,6))\n",
        "\n",
        "plt.subplot(1, 2, 1)\n",
        "plt.title('Loss history', fontsize=18)\n",
        "plt.plot(train_loss_list[1:], label='Train')\n",
        "plt.plot(val_loss_list[1:], label='Validation')\n",
        "plt.xlabel('# of epoch', fontsize=16)\n",
        "plt.ylabel('Loss', fontsize=16)\n",
        "plt.legend(fontsize=16)\n",
        "plt.minorticks_on()\n",
        "plt.grid()\n",
        "\n",
        "plt.subplot(1, 2, 2)\n",
        "plt.title('ROC_AUC history', fontsize=18)\n",
        "plt.plot(train_acc_list, label='Train')\n",
        "plt.plot(val_acc_list, label='Validation')\n",
        "plt.xlabel('# of epoch', fontsize=16)\n",
        "plt.ylabel('ROC_AUC', fontsize=16)\n",
        "plt.legend(fontsize=16)\n",
        "plt.minorticks_on()\n",
        "plt.grid()"
      ],
      "execution_count": null,
      "outputs": [
        {
          "output_type": "display_data",
          "data": {
            "image/png": "[encoded data removed]",
            "text/plain": [
              "<Figure size 1152x432 with 2 Axes>"
            ]
          },
          "metadata": {
            "needs_background": "light"
          }
        }
      ]
    }
  ]
}